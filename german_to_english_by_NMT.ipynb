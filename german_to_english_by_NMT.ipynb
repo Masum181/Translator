{
 "cells": [
  {
   "cell_type": "code",
   "execution_count": 1,
   "id": "2f17de77",
   "metadata": {},
   "outputs": [],
   "source": [
    "import numpy as np\n",
    "\n",
    "import typing\n",
    "from typing import Any, Tuple\n",
    "\n",
    "import einops\n",
    "import matplotlib.pyplot as plt\n",
    "import matplotlib.ticker as ticker\n",
    "\n",
    "import tensorflow as tf\n",
    "import tensorflow_text as tf_text"
   ]
  },
  {
   "cell_type": "code",
   "execution_count": 2,
   "id": "15d36997",
   "metadata": {},
   "outputs": [],
   "source": [
    "import pathlib\n",
    "path = './dataset/deu.txt'"
   ]
  },
  {
   "cell_type": "code",
   "execution_count": 3,
   "id": "2395ab09",
   "metadata": {},
   "outputs": [],
   "source": [
    "def read_file(path):\n",
    "    path_to_file = pathlib.Path(path)\n",
    "    text = path_to_file.read_text(encoding='utf-8')\n",
    "    lines = text.splitlines()\n",
    "    pairs = [line.split('\\t')[:2] for line in lines]\n",
    "    context = np.array([context for target, context in pairs])\n",
    "    target = np.array([target for target,context in pairs])\n",
    "    return context, target"
   ]
  },
  {
   "cell_type": "code",
   "execution_count": 4,
   "id": "52b2edcf",
   "metadata": {},
   "outputs": [],
   "source": [
    "context, target = read_file(path)"
   ]
  },
  {
   "cell_type": "code",
   "execution_count": 5,
   "id": "96233752",
   "metadata": {},
   "outputs": [
    {
     "name": "stdout",
     "output_type": "stream",
     "text": [
      "['Geh.' 'Hallo!' 'Grüß Gott!' 'Lauf!' 'Lauf!' 'Potzdonner!'\n",
      " 'Donnerwetter!' 'Kopf runter!' 'Feuer!' 'Hilfe!']\n"
     ]
    }
   ],
   "source": [
    "print(context[:10])"
   ]
  },
  {
   "cell_type": "code",
   "execution_count": 6,
   "id": "4806bfb9",
   "metadata": {},
   "outputs": [
    {
     "name": "stdout",
     "output_type": "stream",
     "text": [
      "['Go.' 'Hi.' 'Hi.' 'Run!' 'Run.' 'Wow!' 'Wow!' 'Duck!' 'Fire!' 'Help!']\n"
     ]
    }
   ],
   "source": [
    "print(target[:10])"
   ]
  },
  {
   "cell_type": "code",
   "execution_count": 7,
   "id": "1ee537ff",
   "metadata": {},
   "outputs": [
    {
     "data": {
      "text/plain": [
       "array(['Das kommt nicht in Frage!', 'Das gibt’s doch nicht!',\n",
       "       'Ausgeschlossen!', 'In keinster Weise!', 'Wirklich?', 'Echt?',\n",
       "       'Im Ernst?', 'Danke!', 'Danke!', 'Versuch’s!'], dtype='<U491')"
      ]
     },
     "execution_count": 7,
     "metadata": {},
     "output_type": "execute_result"
    }
   ],
   "source": [
    "context[100:110]"
   ]
  },
  {
   "cell_type": "code",
   "execution_count": 8,
   "id": "8ee89bb7",
   "metadata": {},
   "outputs": [],
   "source": [
    "BATCH_SIZE = 64\n",
    "BUFFER_SIZE = len(context)\n",
    "is_train = np.random.uniform(size=(len(target),)) < 0.8\n",
    "\n",
    "train_raw = (tf.data.Dataset\n",
    "            .from_tensor_slices((context[is_train], target[is_train]))\n",
    "            .shuffle(BUFFER_SIZE)\n",
    "            .batch(BATCH_SIZE))\n",
    "\n",
    "val_raw = (tf.data.Dataset\n",
    "          .from_tensor_slices((context[~is_train], target[~is_train]))\n",
    "          .shuffle(BUFFER_SIZE)\n",
    "          .batch(BATCH_SIZE))"
   ]
  },
  {
   "cell_type": "code",
   "execution_count": 9,
   "id": "1d9b5160",
   "metadata": {},
   "outputs": [
    {
     "name": "stdout",
     "output_type": "stream",
     "text": [
      "tf.Tensor(\n",
      "[b'Fast w\\xc3\\xa4re es komisch gewesen.' b'Tom schlug das Buch zu.'\n",
      " b'Das ist schlicht und einfach nicht wahr.'\n",
      " b'Wir werden uns wiedersehen.'\n",
      " b'Ich w\\xc3\\xbcnschte, du w\\xc3\\xa4rest zu Hause geblieben.'], shape=(5,), dtype=string)\n",
      "\n",
      "tf.Tensor(\n",
      "[b'It was almost funny.' b'Tom closed the book.'\n",
      " b'This is simply not true.' b\"We'll meet again.\"\n",
      " b\"I wish you would've stayed home.\"], shape=(5,), dtype=string)\n"
     ]
    }
   ],
   "source": [
    "for example_context_strings, example_target_strings in train_raw.take(1):\n",
    "  print(example_context_strings[:5])\n",
    "  print()\n",
    "  print(example_target_strings[:5])\n",
    "  break"
   ]
  },
  {
   "cell_type": "code",
   "execution_count": 10,
   "id": "df2330d0",
   "metadata": {},
   "outputs": [
    {
     "name": "stdout",
     "output_type": "stream",
     "text": [
      "b'Das kommt nicht in Frage!'\n",
      "b'Das kommt nicht in Frage!'\n"
     ]
    }
   ],
   "source": [
    "example_text = tf.constant('Das kommt nicht in Frage!')\n",
    "print(example_text.numpy())\n",
    "print(tf_text.normalize_utf8(example_text, 'NFKD').numpy())"
   ]
  },
  {
   "cell_type": "code",
   "execution_count": 11,
   "id": "b047cb72",
   "metadata": {},
   "outputs": [],
   "source": [
    "def tf_lower_split_punct(text):\n",
    "    text = tf_text.normalize_utf8(text, 'NFKD')\n",
    "    text = tf.strings.lower(text)\n",
    "    text = tf.strings.regex_replace(text, '[^ a-z.?!,]', '')\n",
    "    # keep spaces around punctuation\n",
    "    text = tf.strings.regex_replace(text, '[.?!,]', r' \\0 ')\n",
    "    \n",
    "    text = tf.strings.strip(text)\n",
    "    \n",
    "    text = tf.strings.join([\"[START]\", text, '[END]'], separator=' ')\n",
    "    return text"
   ]
  },
  {
   "cell_type": "code",
   "execution_count": 12,
   "id": "53d8fbd8",
   "metadata": {},
   "outputs": [
    {
     "name": "stdout",
     "output_type": "stream",
     "text": [
      "Das kommt nicht in Frage!\n",
      "[START] das kommt nicht in frage ! [END]\n"
     ]
    }
   ],
   "source": [
    "print(example_text.numpy().decode())\n",
    "print(tf_lower_split_punct(example_text).numpy().decode())"
   ]
  },
  {
   "cell_type": "code",
   "execution_count": 13,
   "id": "157258fe",
   "metadata": {},
   "outputs": [],
   "source": [
    "max_vocab_size = 5000\n",
    "context_text_processor = tf.keras.layers.TextVectorization(\n",
    "    standardize=tf_lower_split_punct,\n",
    "    max_tokens = max_vocab_size,\n",
    "    ragged=True\n",
    ")"
   ]
  },
  {
   "cell_type": "code",
   "execution_count": 14,
   "id": "c3d4c76a",
   "metadata": {},
   "outputs": [
    {
     "data": {
      "text/plain": [
       "['', '[UNK]', '[START]', '[END]', '.', ',', 'ich', 'tom', '?', 'nicht']"
      ]
     },
     "execution_count": 14,
     "metadata": {},
     "output_type": "execute_result"
    }
   ],
   "source": [
    "context_text_processor.adapt(train_raw.map(lambda context, target: context))\n",
    "context_text_processor.get_vocabulary()[:10]"
   ]
  },
  {
   "cell_type": "code",
   "execution_count": 15,
   "id": "6066086c",
   "metadata": {},
   "outputs": [],
   "source": [
    "target_text_processor = tf.keras.layers.TextVectorization(\n",
    "    standardize=tf_lower_split_punct,\n",
    "    max_tokens=max_vocab_size,\n",
    "    ragged=True\n",
    ")\n",
    "target_text_processor.adapt(train_raw.map(lambda context, target: target))"
   ]
  },
  {
   "cell_type": "code",
   "execution_count": 16,
   "id": "5640b38a",
   "metadata": {},
   "outputs": [
    {
     "data": {
      "text/plain": [
       "['', '[UNK]', '[START]', '[END]', '.', 'tom', 'you', 'to', 'i', 'the']"
      ]
     },
     "execution_count": 16,
     "metadata": {},
     "output_type": "execute_result"
    }
   ],
   "source": [
    "target_text_processor.get_vocabulary()[:10]"
   ]
  },
  {
   "cell_type": "code",
   "execution_count": 17,
   "id": "ef0e793e",
   "metadata": {},
   "outputs": [
    {
     "data": {
      "text/plain": [
       "<tf.RaggedTensor [[2, 228, 160, 15, 1811, 320, 4, 3], [2, 7, 987, 11, 156, 14, 4, 3],\n",
       " [2, 11, 10, 1, 37, 176, 9, 190, 4, 3]]>"
      ]
     },
     "execution_count": 17,
     "metadata": {},
     "output_type": "execute_result"
    }
   ],
   "source": [
    "example_tokens = context_text_processor(example_context_strings)\n",
    "example_tokens[:3, :]"
   ]
  },
  {
   "cell_type": "code",
   "execution_count": 18,
   "id": "7ebffc8f",
   "metadata": {},
   "outputs": [
    {
     "data": {
      "text/plain": [
       "'[START] fast ware es komisch gewesen . [END]'"
      ]
     },
     "execution_count": 18,
     "metadata": {},
     "output_type": "execute_result"
    }
   ],
   "source": [
    "context_vocab = np.array(context_text_processor.get_vocabulary())\n",
    "tokens = context_vocab[example_tokens[0].numpy()]\n",
    "' '.join(tokens)"
   ]
  },
  {
   "cell_type": "code",
   "execution_count": 19,
   "id": "8a05023c",
   "metadata": {},
   "outputs": [
    {
     "data": {
      "text/plain": [
       "Text(0.5, 1.0, 'Mask')"
      ]
     },
     "execution_count": 19,
     "metadata": {},
     "output_type": "execute_result"
    },
    {
     "data": {
      "image/png": "[encoded data removed]",
      "text/plain": [
       "<Figure size 640x480 with 2 Axes>"
      ]
     },
     "metadata": {},
     "output_type": "display_data"
    }
   ],
   "source": [
    "plt.subplot(1, 2, 1)\n",
    "plt.pcolormesh(example_tokens.to_tensor())\n",
    "plt.title('Token IDs')\n",
    "\n",
    "plt.subplot(1, 2, 2)\n",
    "plt.pcolormesh(example_tokens.to_tensor() != 0)\n",
    "plt.title('Mask')"
   ]
  },
  {
   "cell_type": "markdown",
   "id": "5bfbe8bf",
   "metadata": {},
   "source": [
    "### Process the text"
   ]
  },
  {
   "cell_type": "code",
   "execution_count": 20,
   "id": "84ec934e",
   "metadata": {},
   "outputs": [],
   "source": [
    "def process_text(context, target):\n",
    "    context = context_text_processor(context).to_tensor()\n",
    "    target = target_text_processor(target)\n",
    "    target_in = target[:, :-1].to_tensor()\n",
    "    target_out = target[:, 1:].to_tensor()\n",
    "    return (context, target_in), target_out"
   ]
  },
  {
   "cell_type": "code",
   "execution_count": 21,
   "id": "22e2f7fc",
   "metadata": {},
   "outputs": [],
   "source": [
    "train_ds = train_raw.map(process_text, tf.data.AUTOTUNE)\n",
    "val_ds = val_raw.map(process_text, tf.data.AUTOTUNE)"
   ]
  },
  {
   "cell_type": "code",
   "execution_count": 22,
   "id": "9976e82c",
   "metadata": {},
   "outputs": [
    {
     "name": "stdout",
     "output_type": "stream",
     "text": [
      "[   2    7   10   66 1265    1  355    4    3    0]\n",
      "\n",
      "[  2   5  47  84 989 123 410   4   0   0]\n",
      "[  5  47  84 989 123 410   4   3   0   0]\n"
     ]
    }
   ],
   "source": [
    "for (ex_context_tok, ex_targ_in), ex_targ_out in train_ds.take(1):\n",
    "    print(ex_context_tok[0, :10].numpy())\n",
    "    print()\n",
    "    print(ex_targ_in[0, :10].numpy())\n",
    "    print(ex_targ_out[0, :10].numpy())"
   ]
  },
  {
   "cell_type": "markdown",
   "id": "760bffc5",
   "metadata": {},
   "source": [
    "### The Encoder/Decoder"
   ]
  },
  {
   "cell_type": "code",
   "execution_count": 23,
   "id": "49e22850",
   "metadata": {},
   "outputs": [
    {
     "data": {
      "text/plain": [
       "<bound method TextVectorization.vocabulary_size of <keras.layers.preprocessing.text_vectorization.TextVectorization object at 0x000001C7D12DD540>>"
      ]
     },
     "execution_count": 23,
     "metadata": {},
     "output_type": "execute_result"
    }
   ],
   "source": [
    "context_text_processor.vocabulary_size"
   ]
  },
  {
   "cell_type": "code",
   "execution_count": 24,
   "id": "af89b54f",
   "metadata": {},
   "outputs": [],
   "source": [
    "UNITS = 256"
   ]
  },
  {
   "cell_type": "code",
   "execution_count": 25,
   "id": "e61d2bd2",
   "metadata": {},
   "outputs": [],
   "source": [
    "class Encoder(tf.keras.layers.Layer):\n",
    "    def __init__(self, text_processor, units):\n",
    "        super(Encoder, self).__init__()\n",
    "        self.text_processor = text_processor\n",
    "        self.vocab_size = text_processor.vocabulary_size()\n",
    "        \n",
    "        self.embedding = tf.keras.layers.Embedding(self.vocab_size, units, mask_zero=True)\n",
    "        self.rnn = tf.keras.layers.Bidirectional(merge_mode='sum',\n",
    "                                                layer=tf.keras.layers.GRU(units,\n",
    "                                                                         return_sequences=True,\n",
    "                                                                         recurrent_initializer='glorot_uniform'))\n",
    "    def call(self, x):\n",
    "        x = self.embedding(x)\n",
    "        x = self.rnn(x)\n",
    "        return x\n",
    "    \n",
    "    def convert_input(self, texts):\n",
    "        texts = tf.convert_to_tensor(texts)\n",
    "        if len(texts.shape) == 0:\n",
    "            texts =tf.convert_to_tensor(texts)[tf.newaxis]\n",
    "        context = self.text_processor(texts).to_tensor()\n",
    "        context = self(context)\n",
    "        return context\n",
    "            "
   ]
  },
  {
   "cell_type": "markdown",
   "id": "5fe45322",
   "metadata": {},
   "source": [
    "#### Try it out"
   ]
  },
  {
   "cell_type": "code",
   "execution_count": 26,
   "id": "1b6302bf",
   "metadata": {},
   "outputs": [
    {
     "name": "stdout",
     "output_type": "stream",
     "text": [
      "Context token, shape(batch, s): (64, 22)\n",
      "Result of context, shape(batch, s, units): (64, 22, 256)\n"
     ]
    }
   ],
   "source": [
    "encoder = Encoder(context_text_processor, UNITS)\n",
    "ex_context = encoder(ex_context_tok)\n",
    "\n",
    "print(f\"Context token, shape(batch, s): {ex_context_tok.shape}\")\n",
    "print(f\"Result of context, shape(batch, s, units): {ex_context.shape}\")"
   ]
  },
  {
   "cell_type": "markdown",
   "id": "96d491f5",
   "metadata": {},
   "source": [
    "### Attention Layer"
   ]
  },
  {
   "cell_type": "code",
   "execution_count": 27,
   "id": "7712e50e",
   "metadata": {},
   "outputs": [],
   "source": [
    "class CrossAttention(tf.keras.layers.Layer):\n",
    "    def __init__(self, units, **kwargs):\n",
    "        super().__init__()\n",
    "        self.mha = tf.keras.layers.MultiHeadAttention(key_dim=units, num_heads=1)\n",
    "        self.layernorm = tf.keras.layers.LayerNormalization()\n",
    "        self.add = tf.keras.layers.Add()\n",
    "    \n",
    "    def call(self, x, context):\n",
    "        attn_output, attn_scores = self.mha(query=x,\n",
    "                                           value=context, \n",
    "                                           return_attention_scores=True)\n",
    "        attn_scores = tf.reduce_mean(attn_scores, axis=1)\n",
    "        self.last_attention_weights= attn_scores\n",
    "        x = self.add([x, attn_output])\n",
    "        x = self.layernorm(x)\n",
    "        return x"
   ]
  },
  {
   "cell_type": "code",
   "execution_count": 28,
   "id": "8774ec64",
   "metadata": {},
   "outputs": [
    {
     "name": "stdout",
     "output_type": "stream",
     "text": [
      "Context sequence, shape(batch, s, units): (64, 22, 256)\n",
      "Target sequence, shape(batch, t, units): (64, 16, 256)\n",
      "Attention result, shape(batch, t, units): (64, 16, 256)\n",
      "Attention weights, shape(batch, t, s): (64, 16, 22)\n"
     ]
    }
   ],
   "source": [
    "attention_layer = CrossAttention(UNITS)\n",
    "embed = tf.keras.layers.Embedding(target_text_processor.vocabulary_size(), UNITS, mask_zero=True)\n",
    "ex_tar_embed = embed(ex_targ_in)\n",
    "result = attention_layer(ex_tar_embed, ex_context)\n",
    "\n",
    "print(f\"Context sequence, shape(batch, s, units): {ex_context.shape}\")\n",
    "print(f\"Target sequence, shape(batch, t, units): {ex_tar_embed.shape}\")\n",
    "print(f\"Attention result, shape(batch, t, units): {result.shape}\")\n",
    "print(f\"Attention weights, shape(batch, t, s): {attention_layer.last_attention_weights.shape}\")"
   ]
  },
  {
   "cell_type": "code",
   "execution_count": 29,
   "id": "16f54c3d",
   "metadata": {},
   "outputs": [
    {
     "data": {
      "text/plain": [
       "array([1.        , 1.        , 0.9999999 , 0.99999994, 1.0000001 ,\n",
       "       1.        , 0.9999999 , 1.        , 1.0000001 , 1.0000001 ,\n",
       "       1.0000001 , 1.0000001 , 1.0000001 , 1.0000001 , 1.0000001 ,\n",
       "       1.0000001 ], dtype=float32)"
      ]
     },
     "execution_count": 29,
     "metadata": {},
     "output_type": "execute_result"
    }
   ],
   "source": [
    "attention_layer.last_attention_weights[0].numpy().sum(axis=-1)"
   ]
  },
  {
   "cell_type": "code",
   "execution_count": 30,
   "id": "e947ec84",
   "metadata": {},
   "outputs": [
    {
     "data": {
      "image/png": "[encoded data removed]",
      "text/plain": [
       "<Figure size 640x480 with 2 Axes>"
      ]
     },
     "metadata": {},
     "output_type": "display_data"
    }
   ],
   "source": [
    "attention_weights = attention_layer.last_attention_weights\n",
    "mask=(ex_context_tok != 0).numpy()\n",
    "\n",
    "plt.subplot(1, 2, 1)\n",
    "plt.pcolormesh(mask*attention_weights[:, 0, :])\n",
    "plt.title('Attention weights')\n",
    "\n",
    "plt.subplot(1, 2, 2)\n",
    "plt.pcolormesh(mask)\n",
    "plt.title('Mask');"
   ]
  },
  {
   "cell_type": "code",
   "execution_count": 31,
   "id": "bad37217",
   "metadata": {},
   "outputs": [],
   "source": [
    "class Decoder(tf.keras.layers.Layer):\n",
    "    @classmethod\n",
    "    def add_method(cls, fun):\n",
    "        setattr(cls, fun.__name__, fun)\n",
    "        return fun\n",
    "    \n",
    "    def __init__(self, text_processor, units):\n",
    "        super().__init__()\n",
    "        self.text_processor = text_processor\n",
    "        self.vocab_size = text_processor.vocabulary_size()\n",
    "        \n",
    "        self.word_to_id = tf.keras.layers.StringLookup(\n",
    "            vocabulary=text_processor.get_vocabulary(),\n",
    "            mask_token='', oov_token='[UNK]'\n",
    "        )\n",
    "        self.id_to_word = tf.keras.layers.StringLookup(\n",
    "            vocabulary=text_processor.get_vocabulary(),\n",
    "            mask_token='', oov_token='[UNK]', invert=True\n",
    "        )\n",
    "    \n",
    "        self.start_token = self.word_to_id('[START]')\n",
    "        self.end_token = self.word_to_id('[END]')\n",
    "        \n",
    "        self.units = units\n",
    "        \n",
    "        self.embedding = tf.keras.layers.Embedding(self.vocab_size, self.units, mask_zero=True)\n",
    "        self.rnn = tf.keras.layers.GRU(self.units, return_sequences=True, return_state=True, recurrent_initializer='glorot_uniform')\n",
    "        \n",
    "        self.attention = CrossAttention(self.units)\n",
    "        \n",
    "        self.output_layer = tf.keras.layers.Dense(self.vocab_size)"
   ]
  },
  {
   "cell_type": "markdown",
   "id": "b668b919",
   "metadata": {},
   "source": [
    "### Training"
   ]
  },
  {
   "cell_type": "code",
   "execution_count": 32,
   "id": "cfe28b51",
   "metadata": {},
   "outputs": [],
   "source": [
    "@Decoder.add_method\n",
    "def call(self, \n",
    "        context, x, state=None, return_state=False):\n",
    "    x = self.embedding(x)\n",
    "    x, state = self.rnn(x, initial_state=state)\n",
    "    x = self.attention(x, context)\n",
    "    self.last_attention_weights = self.attention.last_attention_weights\n",
    "    \n",
    "    logits = self.output_layer(x)\n",
    "    \n",
    "    if return_state:\n",
    "        return logits, state\n",
    "    else:\n",
    "        return logits"
   ]
  },
  {
   "cell_type": "code",
   "execution_count": 33,
   "id": "6d2bc626",
   "metadata": {},
   "outputs": [],
   "source": [
    "decoder = Decoder(target_text_processor, UNITS)"
   ]
  },
  {
   "cell_type": "code",
   "execution_count": 34,
   "id": "0f3e4259",
   "metadata": {},
   "outputs": [
    {
     "name": "stdout",
     "output_type": "stream",
     "text": [
      "Encoder output shape, (batch, s, units): (64, 22, 256)\n",
      "input target tokens shape:(batch, t): (64, 16)\n",
      "logits shape: (batch,t, target_vocabulary_size): (64, 16, 5000)\n"
     ]
    }
   ],
   "source": [
    "logits = decoder(ex_context, ex_targ_in)\n",
    "\n",
    "print(f\"Encoder output shape, (batch, s, units): {ex_context.shape}\")\n",
    "print(f\"input target tokens shape:(batch, t): {ex_targ_in.shape}\")\n",
    "print(f\"logits shape: (batch,t, target_vocabulary_size): {logits.shape}\")"
   ]
  },
  {
   "cell_type": "markdown",
   "id": "2ebe16fb",
   "metadata": {},
   "source": [
    "#### Inference\n",
    "To use it for inference you'll need a couple more methods:"
   ]
  },
  {
   "cell_type": "code",
   "execution_count": 35,
   "id": "eef8b76a",
   "metadata": {},
   "outputs": [],
   "source": [
    "@Decoder.add_method\n",
    "def get_initial_state(self, context):\n",
    "    batch_size = tf.shape(context)[0]\n",
    "    start_tokens = tf.fill([batch_size, 1], self.start_token)\n",
    "    done = tf.zeros([batch_size, 1], dtype=tf.bool)\n",
    "    embed = self.embedding(start_tokens)\n",
    "    return start_tokens, done, self.rnn.get_initial_state(embed)[0]"
   ]
  },
  {
   "cell_type": "code",
   "execution_count": 36,
   "id": "44e7e538",
   "metadata": {},
   "outputs": [],
   "source": [
    "@Decoder.add_method\n",
    "def tokens_to_text(self, tokens):\n",
    "    words = self.id_to_word(tokens)\n",
    "    result = tf.strings.reduce_join(words, axis=-1, separator=' ')\n",
    "    result = tf.strings.regex_replace(result, '^ *\\[START\\] *', '')\n",
    "    result = tf.strings.regex_replace(result, ' *\\[END\\] *$', '')\n",
    "    return result"
   ]
  },
  {
   "cell_type": "code",
   "execution_count": 37,
   "id": "0a1ab89c",
   "metadata": {},
   "outputs": [],
   "source": [
    "@Decoder.add_method\n",
    "def get_next_token(self, context, next_token, done, state, temperature=0.0):\n",
    "    logits, state = self(context, next_token, state=state, return_state=True)\n",
    "    \n",
    "    if temperature == 0.0:\n",
    "        next_token = tf.argmax(logits, axis=-1)\n",
    "    else:\n",
    "        logits = logits[:, -1, :]/ temperature\n",
    "        next_token = tf.random.categorical(logits, num_samples=1)\n",
    "    done = done | (self.end_token == next_token)\n",
    "    next_token = tf.where(done, tf.constant(0, dtype=tf.int64), next_token)\n",
    "    \n",
    "    return next_token, done, state"
   ]
  },
  {
   "cell_type": "code",
   "execution_count": 38,
   "id": "22480f96",
   "metadata": {},
   "outputs": [],
   "source": [
    "next_token, done, state = decoder.get_initial_state(ex_context)\n",
    "tokens = []\n",
    "for n in range(10):\n",
    "    next_token, done, state = decoder.get_next_token(ex_context, next_token, done, state, temperature=1.0)\n",
    "    tokens.append(next_token)"
   ]
  },
  {
   "cell_type": "code",
   "execution_count": 39,
   "id": "c2a0f527",
   "metadata": {},
   "outputs": [
    {
     "data": {
      "text/plain": [
       "(10, 64, 1)"
      ]
     },
     "execution_count": 39,
     "metadata": {},
     "output_type": "execute_result"
    }
   ],
   "source": [
    "np.array(tokens).shape"
   ]
  },
  {
   "cell_type": "code",
   "execution_count": 40,
   "id": "7dd3f54f",
   "metadata": {},
   "outputs": [
    {
     "data": {
      "text/plain": [
       "TensorShape([64, 10])"
      ]
     },
     "execution_count": 40,
     "metadata": {},
     "output_type": "execute_result"
    }
   ],
   "source": [
    "tokens = tf.concat(tokens, axis=-1) # batch, t\n",
    "tokens.shape"
   ]
  },
  {
   "cell_type": "code",
   "execution_count": 41,
   "id": "7ee917ee",
   "metadata": {},
   "outputs": [
    {
     "data": {
      "text/plain": [
       "array([b'sober m lasted witness fact manner dawn border fountain stuck',\n",
       "       b'deny fever ones pity italy rides sword land dated mouth',\n",
       "       b'humor fifteen fireman sickness wealth voyage improving youre makeup closest'],\n",
       "      dtype=object)"
      ]
     },
     "execution_count": 41,
     "metadata": {},
     "output_type": "execute_result"
    }
   ],
   "source": [
    "# convert the tokens back to a string\n",
    "result = decoder.tokens_to_text(tokens)\n",
    "result[:3].numpy()"
   ]
  },
  {
   "cell_type": "markdown",
   "id": "9aedb529",
   "metadata": {},
   "source": [
    "### The Model"
   ]
  },
  {
   "cell_type": "code",
   "execution_count": 42,
   "id": "2284d5ec",
   "metadata": {},
   "outputs": [],
   "source": [
    "class Translator(tf.keras.models.Model):\n",
    "    @classmethod\n",
    "    def add_method(cls, fun):\n",
    "        setattr(cls, fun.__name__, fun)\n",
    "        return fun\n",
    "    def __init__(self,units,  context_text_processor, target_text_processor):\n",
    "        super().__init__()\n",
    "        # build the model\n",
    "        endcoder =Encoder(context_text_processor, units)\n",
    "        decoder = Decoder(target_text_processor, units)\n",
    "        self.encoder =encoder\n",
    "        self.decoder = decoder\n",
    "    \n",
    "    def call(self, inputs):\n",
    "        context, x = inputs\n",
    "        context = self.encoder(context)\n",
    "        logits = self.decoder(context, x)\n",
    "        \n",
    "        try:\n",
    "            del logits._keras_mask\n",
    "        except AttributeError:\n",
    "            pass\n",
    "        return logits"
   ]
  },
  {
   "cell_type": "markdown",
   "id": "ed8fe757",
   "metadata": {},
   "source": [
    "During training modell will be used like this"
   ]
  },
  {
   "cell_type": "code",
   "execution_count": 43,
   "id": "87d5b995",
   "metadata": {},
   "outputs": [
    {
     "name": "stdout",
     "output_type": "stream",
     "text": [
      "Context tokens, shape: (batch, s, units): (64, 22)\n",
      "Target tokens, shape: (batch, t): (64, 16)\n",
      "logits shape: (batch, target_vocabulary_size): (64, 16, 5000)\n"
     ]
    }
   ],
   "source": [
    "model = Translator(UNITS, context_text_processor, target_text_processor)\n",
    "logits = model((ex_context_tok, ex_targ_in))\n",
    "\n",
    "print(f\"Context tokens, shape: (batch, s, units): {ex_context_tok.shape}\")\n",
    "print(f'Target tokens, shape: (batch, t): {ex_targ_in.shape}')\n",
    "print(f'logits shape: (batch, target_vocabulary_size): {logits.shape}')"
   ]
  },
  {
   "cell_type": "markdown",
   "id": "70421549",
   "metadata": {},
   "source": [
    "### Train \n"
   ]
  },
  {
   "cell_type": "code",
   "execution_count": 44,
   "id": "a0d118c1",
   "metadata": {},
   "outputs": [],
   "source": [
    "def masked_loss(y_true, y_pred):\n",
    "    \n",
    "    loss_fn = tf.keras.losses.SparseCategoricalCrossentropy(\n",
    "        from_logits=True, reduction='none'\n",
    "    )\n",
    "    loss = loss_fn(y_true, y_pred)\n",
    "    mask = tf.cast(y_true != 0, loss.dtype)\n",
    "    loss *= mask\n",
    "    return tf.reduce_sum(loss)/tf.reduce_sum(mask)"
   ]
  },
  {
   "cell_type": "code",
   "execution_count": 45,
   "id": "033f5983",
   "metadata": {},
   "outputs": [],
   "source": [
    "def masked_accuracy(y_true, y_pred):\n",
    "    # calculate the loss for each item in the batch\n",
    "    y_pred = tf.argmax(y_pred, axis=-1)\n",
    "    y_pred = tf.cast(y_pred, y_true.dtype)\n",
    "    \n",
    "    match = tf.cast(y_true == y_pred, tf.float32)\n",
    "    mask = tf.cast(y_true != 0, tf.float32)\n",
    "    \n",
    "    return tf.reduce_sum(match) / tf.reduce_sum(mask)"
   ]
  },
  {
   "cell_type": "code",
   "execution_count": 46,
   "id": "b6b4197c",
   "metadata": {},
   "outputs": [],
   "source": [
    "model.compile(optimizer='adam',\n",
    "             loss=masked_loss,\n",
    "             metrics=[masked_accuracy, masked_loss])\n"
   ]
  },
  {
   "cell_type": "code",
   "execution_count": 47,
   "id": "d09d15e2",
   "metadata": {},
   "outputs": [
    {
     "data": {
      "text/plain": [
       "{'expected_loss': 8.517193, 'expected_acc': 0.0002}"
      ]
     },
     "execution_count": 47,
     "metadata": {},
     "output_type": "execute_result"
    }
   ],
   "source": [
    "vocab_size = 1.0 * target_text_processor.vocabulary_size()\n",
    "\n",
    "{\"expected_loss\": tf.math.log(vocab_size).numpy(),\n",
    " \"expected_acc\": 1/vocab_size}"
   ]
  },
  {
   "cell_type": "code",
   "execution_count": 48,
   "id": "4e11d2b8",
   "metadata": {},
   "outputs": [
    {
     "name": "stdout",
     "output_type": "stream",
     "text": [
      "20/20 [==============================] - 20s 213ms/step - loss: 8.5027 - masked_accuracy: 9.1241e-05 - masked_loss: 8.5027\n"
     ]
    },
    {
     "data": {
      "text/plain": [
       "{'loss': 8.502697944641113,\n",
       " 'masked_accuracy': 9.124087227974087e-05,\n",
       " 'masked_loss': 8.502697944641113}"
      ]
     },
     "execution_count": 48,
     "metadata": {},
     "output_type": "execute_result"
    }
   ],
   "source": [
    "model.evaluate(val_ds, steps=20, return_dict=True)"
   ]
  },
  {
   "cell_type": "code",
   "execution_count": 49,
   "id": "42b9b313",
   "metadata": {},
   "outputs": [
    {
     "name": "stdout",
     "output_type": "stream",
     "text": [
      "Epoch 1/100\n",
      "100/100 [==============================] - 77s 520ms/step - loss: 4.8884 - masked_accuracy: 0.2861 - masked_loss: 4.8884 - val_loss: 3.9539 - val_masked_accuracy: 0.3818 - val_masked_loss: 3.9539\n",
      "Epoch 2/100\n",
      "100/100 [==============================] - 53s 531ms/step - loss: 3.5843 - masked_accuracy: 0.4176 - masked_loss: 3.5843 - val_loss: 3.2981 - val_masked_accuracy: 0.4586 - val_masked_loss: 3.2981\n",
      "Epoch 3/100\n",
      "100/100 [==============================] - 53s 526ms/step - loss: 3.0988 - masked_accuracy: 0.4796 - masked_loss: 3.0988 - val_loss: 2.9113 - val_masked_accuracy: 0.5103 - val_masked_loss: 2.9113\n",
      "Epoch 4/100\n",
      "100/100 [==============================] - 54s 538ms/step - loss: 2.7804 - masked_accuracy: 0.5217 - masked_loss: 2.7804 - val_loss: 2.5859 - val_masked_accuracy: 0.5497 - val_masked_loss: 2.5859\n",
      "Epoch 5/100\n",
      "100/100 [==============================] - 51s 510ms/step - loss: 2.5267 - masked_accuracy: 0.5593 - masked_loss: 2.5267 - val_loss: 2.3986 - val_masked_accuracy: 0.5797 - val_masked_loss: 2.3986\n",
      "Epoch 6/100\n",
      "100/100 [==============================] - 53s 535ms/step - loss: 2.3372 - masked_accuracy: 0.5861 - masked_loss: 2.3372 - val_loss: 2.1948 - val_masked_accuracy: 0.5972 - val_masked_loss: 2.1948\n",
      "Epoch 7/100\n",
      "100/100 [==============================] - 51s 508ms/step - loss: 2.1621 - masked_accuracy: 0.6107 - masked_loss: 2.1621 - val_loss: 2.1155 - val_masked_accuracy: 0.6173 - val_masked_loss: 2.1155\n",
      "Epoch 8/100\n",
      "100/100 [==============================] - 52s 520ms/step - loss: 2.0299 - masked_accuracy: 0.6266 - masked_loss: 2.0299 - val_loss: 2.0098 - val_masked_accuracy: 0.6278 - val_masked_loss: 2.0098\n",
      "Epoch 9/100\n",
      "100/100 [==============================] - 54s 539ms/step - loss: 1.9303 - masked_accuracy: 0.6419 - masked_loss: 1.9303 - val_loss: 1.9033 - val_masked_accuracy: 0.6457 - val_masked_loss: 1.9033\n",
      "Epoch 10/100\n",
      "100/100 [==============================] - 52s 524ms/step - loss: 1.8286 - masked_accuracy: 0.6600 - masked_loss: 1.8286 - val_loss: 1.7919 - val_masked_accuracy: 0.6590 - val_masked_loss: 1.7919\n",
      "Epoch 11/100\n",
      "100/100 [==============================] - 52s 522ms/step - loss: 1.7571 - masked_accuracy: 0.6671 - masked_loss: 1.7571 - val_loss: 1.6722 - val_masked_accuracy: 0.6767 - val_masked_loss: 1.6722\n",
      "Epoch 12/100\n",
      "100/100 [==============================] - 51s 511ms/step - loss: 1.6984 - masked_accuracy: 0.6730 - masked_loss: 1.6984 - val_loss: 1.6827 - val_masked_accuracy: 0.6709 - val_masked_loss: 1.6827\n",
      "Epoch 13/100\n",
      "100/100 [==============================] - 55s 551ms/step - loss: 1.6545 - masked_accuracy: 0.6801 - masked_loss: 1.6545 - val_loss: 1.6220 - val_masked_accuracy: 0.6875 - val_masked_loss: 1.6220\n",
      "Epoch 14/100\n",
      "100/100 [==============================] - 52s 520ms/step - loss: 1.6361 - masked_accuracy: 0.6835 - masked_loss: 1.6361 - val_loss: 1.6460 - val_masked_accuracy: 0.6768 - val_masked_loss: 1.6460\n",
      "Epoch 15/100\n",
      "100/100 [==============================] - 51s 510ms/step - loss: 1.5919 - masked_accuracy: 0.6886 - masked_loss: 1.5919 - val_loss: 1.5483 - val_masked_accuracy: 0.6921 - val_masked_loss: 1.5483\n",
      "Epoch 16/100\n",
      "100/100 [==============================] - 52s 515ms/step - loss: 1.5307 - masked_accuracy: 0.6979 - masked_loss: 1.5307 - val_loss: 1.4840 - val_masked_accuracy: 0.7066 - val_masked_loss: 1.4840\n",
      "Epoch 17/100\n",
      "100/100 [==============================] - 50s 499ms/step - loss: 1.4920 - masked_accuracy: 0.7055 - masked_loss: 1.4920 - val_loss: 1.4888 - val_masked_accuracy: 0.7080 - val_masked_loss: 1.4888\n",
      "Epoch 18/100\n",
      "100/100 [==============================] - 51s 507ms/step - loss: 1.4684 - masked_accuracy: 0.7098 - masked_loss: 1.4684 - val_loss: 1.4353 - val_masked_accuracy: 0.7138 - val_masked_loss: 1.4353\n",
      "Epoch 19/100\n",
      "100/100 [==============================] - 49s 494ms/step - loss: 1.4489 - masked_accuracy: 0.7103 - masked_loss: 1.4489 - val_loss: 1.4969 - val_masked_accuracy: 0.6981 - val_masked_loss: 1.4969\n",
      "Epoch 20/100\n",
      "100/100 [==============================] - 51s 507ms/step - loss: 1.4195 - masked_accuracy: 0.7173 - masked_loss: 1.4195 - val_loss: 1.4483 - val_masked_accuracy: 0.7093 - val_masked_loss: 1.4483\n",
      "Epoch 21/100\n",
      "100/100 [==============================] - 50s 497ms/step - loss: 1.4147 - masked_accuracy: 0.7157 - masked_loss: 1.4147 - val_loss: 1.3827 - val_masked_accuracy: 0.7194 - val_masked_loss: 1.3827\n",
      "Epoch 22/100\n",
      "100/100 [==============================] - 53s 532ms/step - loss: 1.4064 - masked_accuracy: 0.7161 - masked_loss: 1.4064 - val_loss: 1.4194 - val_masked_accuracy: 0.7174 - val_masked_loss: 1.4194\n",
      "Epoch 23/100\n",
      "100/100 [==============================] - 50s 497ms/step - loss: 1.3903 - masked_accuracy: 0.7187 - masked_loss: 1.3903 - val_loss: 1.3386 - val_masked_accuracy: 0.7320 - val_masked_loss: 1.3386\n",
      "Epoch 24/100\n",
      "100/100 [==============================] - 53s 526ms/step - loss: 1.3790 - masked_accuracy: 0.7196 - masked_loss: 1.3790 - val_loss: 1.3883 - val_masked_accuracy: 0.7137 - val_masked_loss: 1.3883\n",
      "Epoch 25/100\n",
      "100/100 [==============================] - 52s 520ms/step - loss: 1.3415 - masked_accuracy: 0.7253 - masked_loss: 1.3415 - val_loss: 1.3687 - val_masked_accuracy: 0.7191 - val_masked_loss: 1.3687\n",
      "Epoch 26/100\n",
      "100/100 [==============================] - 52s 522ms/step - loss: 1.3509 - masked_accuracy: 0.7235 - masked_loss: 1.3509 - val_loss: 1.3295 - val_masked_accuracy: 0.7278 - val_masked_loss: 1.3295\n",
      "Epoch 27/100\n",
      "100/100 [==============================] - 49s 489ms/step - loss: 1.2867 - masked_accuracy: 0.7337 - masked_loss: 1.2867 - val_loss: 1.2643 - val_masked_accuracy: 0.7373 - val_masked_loss: 1.2643\n",
      "Epoch 28/100\n",
      "100/100 [==============================] - 49s 488ms/step - loss: 1.3193 - masked_accuracy: 0.7270 - masked_loss: 1.3193 - val_loss: 1.2404 - val_masked_accuracy: 0.7421 - val_masked_loss: 1.2404\n",
      "Epoch 29/100\n",
      "100/100 [==============================] - 50s 502ms/step - loss: 1.3131 - masked_accuracy: 0.7308 - masked_loss: 1.3131 - val_loss: 1.2733 - val_masked_accuracy: 0.7354 - val_masked_loss: 1.2733\n",
      "Epoch 30/100\n",
      "100/100 [==============================] - 50s 495ms/step - loss: 1.2807 - masked_accuracy: 0.7344 - masked_loss: 1.2807 - val_loss: 1.3201 - val_masked_accuracy: 0.7305 - val_masked_loss: 1.3201\n",
      "Epoch 31/100\n",
      "100/100 [==============================] - 50s 497ms/step - loss: 1.2646 - masked_accuracy: 0.7369 - masked_loss: 1.2646 - val_loss: 1.2407 - val_masked_accuracy: 0.7410 - val_masked_loss: 1.2407\n"
     ]
    }
   ],
   "source": [
    "history = model.fit(\n",
    "    train_ds.repeat(),\n",
    "    epochs=100,\n",
    "    steps_per_epoch=100,\n",
    "    validation_data=val_ds,\n",
    "    validation_steps= 20,\n",
    "    callbacks=[tf.keras.callbacks.EarlyStopping(patience=3)]\n",
    ")"
   ]
  },
  {
   "cell_type": "code",
   "execution_count": 50,
   "id": "2cefa41e",
   "metadata": {},
   "outputs": [
    {
     "data": {
      "text/plain": [
       "<matplotlib.legend.Legend at 0x1c7de628550>"
      ]
     },
     "execution_count": 50,
     "metadata": {},
     "output_type": "execute_result"
    },
    {
     "data": {
      "image/png": "[encoded data removed]",
      "text/plain": [
       "<Figure size 640x480 with 1 Axes>"
      ]
     },
     "metadata": {},
     "output_type": "display_data"
    }
   ],
   "source": [
    "plt.plot(history.history['loss'], label='loss')\n",
    "plt.plot(history.history['val_loss'], label='val_loss')\n",
    "plt.ylim([0, max(plt.ylim())])\n",
    "plt.xlabel('Epoch #')\n",
    "plt.ylabel('CE/token')\n",
    "plt.legend()"
   ]
  },
  {
   "cell_type": "code",
   "execution_count": 51,
   "id": "7fc96af0",
   "metadata": {},
   "outputs": [
    {
     "data": {
      "text/plain": [
       "<matplotlib.legend.Legend at 0x1c7de636860>"
      ]
     },
     "execution_count": 51,
     "metadata": {},
     "output_type": "execute_result"
    },
    {
     "data": {
      "image/png": "[encoded data removed]",
      "text/plain": [
       "<Figure size 640x480 with 1 Axes>"
      ]
     },
     "metadata": {},
     "output_type": "display_data"
    }
   ],
   "source": [
    "plt.plot(history.history['masked_accuracy'], label='accuracy')\n",
    "plt.plot(history.history['val_masked_accuracy'], label='val_accuracy')\n",
    "plt.ylim([0, max(plt.ylim())])\n",
    "plt.xlabel('Epoch #')\n",
    "plt.ylabel('CE/token')\n",
    "plt.legend()"
   ]
  },
  {
   "cell_type": "code",
   "execution_count": 76,
   "id": "f2d436ae",
   "metadata": {},
   "outputs": [],
   "source": [
    "@Translator.add_method\n",
    "def translate(self, texts, *, max_length=50, temperature=0.0):\n",
    "    context = self.encoder.convert_input(texts)\n",
    "    batch_size = tf.shape(texts)[0]\n",
    "    \n",
    "    # setup the loop inputs\n",
    "    tokens = []\n",
    "    attention_weights = []\n",
    "    next_token, done, state = self.decoder.get_initial_state(context)\n",
    "    \n",
    "    for _ in range(max_length):\n",
    "        # generate the next token\n",
    "        next_token, done, state = self.decoder.get_next_token(\n",
    "            context, next_token, done, state, temperature\n",
    "        )\n",
    "        # collect the generated tokens\n",
    "        tokens.append(next_token)\n",
    "        attention_weights.append(self.decoder.last_attention_weights)\n",
    "        \n",
    "        if tf.executing_eagerly() and tf.reduce_all(done):\n",
    "            break\n",
    "    # Stack the lists of tokens and attention weights\n",
    "    tokens = tf.concat(tokens, axis=-1)\n",
    "    self.last_attention_weights = tf.concat(attention_weights, axis=-1)\n",
    "    \n",
    "    result = self.decoder.tokens_to_text(tokens)\n",
    "    \n",
    "    return result"
   ]
  },
  {
   "cell_type": "code",
   "execution_count": 80,
   "id": "733684a0",
   "metadata": {},
   "outputs": [
    {
     "data": {
      "text/plain": [
       "'be nice . '"
      ]
     },
     "execution_count": 80,
     "metadata": {},
     "output_type": "execute_result"
    }
   ],
   "source": [
    "result = model.translate(['Seien Sie nett!']) # Be nice\n",
    "\n",
    "result[0].numpy().decode()"
   ]
  },
  {
   "cell_type": "code",
   "execution_count": null,
   "id": "b1f956ff",
   "metadata": {},
   "outputs": [],
   "source": []
  }
 ],
 "metadata": {
  "kernelspec": {
   "display_name": "Python 3 (ipykernel)",
   "language": "python",
   "name": "python3"
  },
  "language_info": {
   "codemirror_mode": {
    "name": "ipython",
    "version": 3
   },
   "file_extension": ".py",
   "mimetype": "text/x-python",
   "name": "python",
   "nbconvert_exporter": "python",
   "pygments_lexer": "ipython3",
   "version": "3.10.6"
  }
 },
 "nbformat": 4,
 "nbformat_minor": 5
}
