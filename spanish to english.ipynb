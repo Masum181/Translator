{
 "cells": [
  {
   "cell_type": "code",
   "execution_count": 1,
   "id": "dd34839e",
   "metadata": {},
   "outputs": [],
   "source": [
    "import numpy as np\n",
    "\n",
    "import typing\n",
    "from typing import Any, Tuple\n",
    "\n",
    "import einops\n",
    "import matplotlib.pyplot as plt\n",
    "import matplotlib.ticker as ticker\n",
    "\n",
    "import tensorflow as tf\n",
    "import tensorflow_text as tf_text"
   ]
  },
  {
   "cell_type": "code",
   "execution_count": 2,
   "id": "faa2f59d",
   "metadata": {},
   "outputs": [],
   "source": [
    "### Download the file\n",
    "import pathlib\n",
    "path_to_zip = tf.keras.utils.get_file(\n",
    "    'spa-eng.zip', origin='http://storage.googleapis.com/download.tensorflow.org/data/spa-eng.zip',\n",
    "    extract=True)\n",
    "path_to_file = pathlib.Path(path_to_zip).parent/'spa-eng/spa.txt'"
   ]
  },
  {
   "cell_type": "code",
   "execution_count": 3,
   "id": "6b0493a1",
   "metadata": {},
   "outputs": [],
   "source": [
    "def load_data(path):\n",
    "    text = path.read_text(encoding = 'utf-8')\n",
    "    \n",
    "    lines = text.splitlines()\n",
    "    \n",
    "    pairs = [line.split(\"\\t\") for line in lines]\n",
    "    \n",
    "    context = np.array([context for target, context in pairs])\n",
    "    target = np.array([target for target,context in pairs])\n",
    "    \n",
    "    return target, context"
   ]
  },
  {
   "cell_type": "code",
   "execution_count": 4,
   "id": "1de35030",
   "metadata": {},
   "outputs": [
    {
     "name": "stdout",
     "output_type": "stream",
     "text": [
      "Si quieres sonar como un hablante nativo, debes estar dispuesto a practicar diciendo la misma frase una y otra vez de la misma manera en que un músico de banjo practica el mismo fraseo una y otra vez hasta que lo puedan tocar correctamente y en el tiempo esperado.\n"
     ]
    }
   ],
   "source": [
    "target_raw, context_raw = load_data(path_to_file)\n",
    "print(context_raw[-1])"
   ]
  },
  {
   "cell_type": "code",
   "execution_count": 5,
   "id": "7a575470",
   "metadata": {},
   "outputs": [
    {
     "name": "stdout",
     "output_type": "stream",
     "text": [
      "If you want to sound like a native speaker, you must be willing to practice saying the same sentence over and over in the same way that banjo players practice the same phrase over and over until they can play it correctly and at the desired tempo.\n"
     ]
    }
   ],
   "source": [
    "print(target_raw[-1])"
   ]
  },
  {
   "cell_type": "markdown",
   "id": "0e816054",
   "metadata": {},
   "source": [
    "### Creating dataset"
   ]
  },
  {
   "cell_type": "code",
   "execution_count": 6,
   "id": "0008434a",
   "metadata": {},
   "outputs": [],
   "source": [
    "BUFFER_SIZE = len(context_raw)\n",
    "BATCH_SIZE = 64\n",
    "\n",
    "is_train = np.random.uniform(size=(len(target_raw),)) < 0.8\n",
    "\n",
    "train_raw = (\n",
    "    tf.data.Dataset\n",
    "    .from_tensor_slices((context_raw[is_train], target_raw[is_train]))\n",
    "    .shuffle(BUFFER_SIZE)\n",
    "    .batch(BATCH_SIZE)\n",
    "    \n",
    ")\n",
    "\n",
    "val_raw = (\n",
    "    tf.data.Dataset\n",
    "    .from_tensor_slices((context_raw[~is_train], target_raw[~is_train]))\n",
    "    .shuffle(BUFFER_SIZE)\n",
    "    .batch(BATCH_SIZE)                    \n",
    ")"
   ]
  },
  {
   "cell_type": "code",
   "execution_count": 7,
   "id": "31128632",
   "metadata": {},
   "outputs": [
    {
     "name": "stdout",
     "output_type": "stream",
     "text": [
      "tf.Tensor(\n",
      "[b'Te estoy tratando de ayudar.'\n",
      " b'\\xc3\\x89l dijo que ten\\xc3\\xadamos que guardar el secreto.'\n",
      " b'Tom gan\\xc3\\xb3 la apuesta.' b'Por favor no lo ponga en la mesa.'\n",
      " b'\\xc3\\x89l hizo lo que le instru\\xc3\\xad.'], shape=(5,), dtype=string)\n",
      "\n",
      "tf.Tensor(\n",
      "[b\"I'm trying to help you.\" b'He said we must keep the secret.'\n",
      " b'Tom won the bet.' b\"Please don't put it on the table.\"\n",
      " b'He did what I told him to do.'], shape=(5,), dtype=string)\n"
     ]
    }
   ],
   "source": [
    "for example_context_strings, exaple_target_context in train_raw.take(1):\n",
    "    print(example_context_strings[:5])\n",
    "    print()\n",
    "    print(exaple_target_context[:5])\n",
    "    break"
   ]
  },
  {
   "cell_type": "markdown",
   "id": "c6a6609a",
   "metadata": {},
   "source": [
    "### Text PreProcessing"
   ]
  },
  {
   "cell_type": "markdown",
   "id": "9dfff923",
   "metadata": {},
   "source": [
    "One of the goals of this tutorial is to build a model that can be exported as a tf.saved_model. To make that exported model useful it should take tf.string inputs, and return tf.string outputs: All the text processing happens inside the model. Mainly using a layers.TextVectorization layer"
   ]
  },
  {
   "cell_type": "markdown",
   "id": "ef629798",
   "metadata": {},
   "source": [
    "**Standardization:**\n",
    "The model is dealing with multilingual text with a limited vocabulary. So it will be important to standardize the input text.\n",
    "\n",
    "The first step is Unicode normalization to split accented characters and replace compatibility characters with their ASCII equivalents.\n",
    "\n",
    "The tensorflow_text package contains a unicode normalize operation:\n",
    "    "
   ]
  },
  {
   "cell_type": "code",
   "execution_count": 8,
   "id": "c7ed7a5f",
   "metadata": {},
   "outputs": [
    {
     "name": "stdout",
     "output_type": "stream",
     "text": [
      "b'\\xc2\\xbfTodav\\xc3\\xada est\\xc3\\xa1 en casa?'\n",
      "b'\\xc2\\xbfTodavi\\xcc\\x81a esta\\xcc\\x81 en casa?'\n"
     ]
    }
   ],
   "source": [
    "example_text = tf.constant('¿Todavía está en casa?')\n",
    "print(example_text.numpy())\n",
    "print(tf_text.normalize_utf8(example_text, 'NFKD').numpy())"
   ]
  },
  {
   "cell_type": "markdown",
   "id": "32fa9422",
   "metadata": {},
   "source": [
    "***Unicode normalization will be first step in the text Standardization function***\n"
   ]
  },
  {
   "cell_type": "code",
   "execution_count": 9,
   "id": "3d232efe",
   "metadata": {},
   "outputs": [],
   "source": [
    "def tf_lower_and_split_punct(text):\n",
    "    # split accented characters\n",
    "    text = tf_text.normalize_utf8(text, \"NFKD\")\n",
    "    text = tf.strings.lower(text)\n",
    "    # keeps space, a to z, and select punctuation\n",
    "    text = tf.strings.regex_replace(text, '[^ a-z.?!,¿]', '')\n",
    "    # add spaces around punctuation\n",
    "    text = tf.strings.regex_replace(text, '[.?!,¿]', r' \\0 ')\n",
    "    # strip whitespace.\n",
    "    text = tf.strings.strip(text)\n",
    "    \n",
    "    text = tf.strings.join(['[START]', text, '[END]'], separator=' ')\n",
    "    return text"
   ]
  },
  {
   "cell_type": "code",
   "execution_count": 10,
   "id": "537bb79a",
   "metadata": {},
   "outputs": [
    {
     "name": "stdout",
     "output_type": "stream",
     "text": [
      "¿Todavía está en casa?\n",
      "[START] ¿ todavia esta en casa ? [END]\n"
     ]
    }
   ],
   "source": [
    "print(example_text.numpy().decode())\n",
    "print(tf_lower_and_split_punct(example_text).numpy().decode())"
   ]
  },
  {
   "cell_type": "markdown",
   "id": "c49d1d79",
   "metadata": {},
   "source": [
    "### Text Vectorization\n",
    "\n",
    "This standardization function will be wrapped up in a tf.keras.layers.TextVectorization layer which will handle the vocabulary extraction and conversion of input text to sequences of tokens."
   ]
  },
  {
   "cell_type": "code",
   "execution_count": 11,
   "id": "a33383c2",
   "metadata": {},
   "outputs": [],
   "source": [
    "max_vocab_size = 5000\n",
    "context_text_processor = tf.keras.layers.TextVectorization(\n",
    "    standardize=tf_lower_and_split_punct,\n",
    "    max_tokens = max_vocab_size,\n",
    "    ragged=True\n",
    ")"
   ]
  },
  {
   "cell_type": "markdown",
   "id": "ed28139f",
   "metadata": {},
   "source": [
    "The **`TextVectorization`** layer and many other `Keras preprocessing layers` have an adapt method. This method reads one epoch of the training data, and works a lot like `Model.fit`. This adapt method initializes the layer based on the data. Here it determines the vocabulary:"
   ]
  },
  {
   "cell_type": "code",
   "execution_count": 12,
   "id": "c7c751b5",
   "metadata": {},
   "outputs": [
    {
     "data": {
      "text/plain": [
       "['', '[UNK]', '[START]', '[END]', '.', 'que', 'de', 'el', 'a', 'no']"
      ]
     },
     "execution_count": 12,
     "metadata": {},
     "output_type": "execute_result"
    }
   ],
   "source": [
    "context_text_processor.adapt(train_raw.map(lambda context, target: context))\n",
    "\n",
    "# here are the first 10 words from the vocabulary\n",
    "context_text_processor.get_vocabulary()[:10]"
   ]
  },
  {
   "cell_type": "markdown",
   "id": "81038b54",
   "metadata": {},
   "source": [
    "That's the Spanish **`TextVectorization`** layer, now build and `.adapt()` the English one:"
   ]
  },
  {
   "cell_type": "code",
   "execution_count": 13,
   "id": "3a9df86e",
   "metadata": {},
   "outputs": [
    {
     "data": {
      "text/plain": [
       "['', '[UNK]', '[START]', '[END]', '.', 'the', 'i', 'to', 'you', 'tom']"
      ]
     },
     "execution_count": 13,
     "metadata": {},
     "output_type": "execute_result"
    }
   ],
   "source": [
    "target_text_processor = tf.keras.layers.TextVectorization(\n",
    "    standardize=tf_lower_and_split_punct,\n",
    "    max_tokens = max_vocab_size,\n",
    "    ragged=True\n",
    ")\n",
    "\n",
    "target_text_processor.adapt(train_raw.map(lambda context, target: target))\n",
    "target_text_processor.get_vocabulary()[:10]"
   ]
  },
  {
   "cell_type": "markdown",
   "id": "3f6ae0e2",
   "metadata": {},
   "source": [
    "Now these layers can convert a batch of strings into a batch of token IDs:"
   ]
  },
  {
   "cell_type": "code",
   "execution_count": 14,
   "id": "cf1d5547",
   "metadata": {},
   "outputs": [
    {
     "data": {
      "text/plain": [
       "<tf.RaggedTensor [[2, 30, 41, 1058, 6, 328, 4, 3],\n",
       " [2, 7, 93, 5, 1607, 5, 2775, 7, 521, 4, 3], [2, 10, 1101, 11, 1, 4, 3]]>"
      ]
     },
     "execution_count": 14,
     "metadata": {},
     "output_type": "execute_result"
    }
   ],
   "source": [
    "example_tokens = context_text_processor(example_context_strings)\n",
    "example_tokens[:3, :]"
   ]
  },
  {
   "cell_type": "markdown",
   "id": "244c771f",
   "metadata": {},
   "source": [
    "The `get_vocabulary` method can be used to convert token IDs back to text:"
   ]
  },
  {
   "cell_type": "code",
   "execution_count": 15,
   "id": "5690db7d",
   "metadata": {},
   "outputs": [
    {
     "data": {
      "text/plain": [
       "'[START] te estoy tratando de ayudar . [END]'"
      ]
     },
     "execution_count": 15,
     "metadata": {},
     "output_type": "execute_result"
    }
   ],
   "source": [
    "context_vocab = np.array(context_text_processor.get_vocabulary())\n",
    "tokens = context_vocab[example_tokens[0].numpy()]\n",
    "' '.join(tokens)"
   ]
  },
  {
   "cell_type": "markdown",
   "id": "022fb823",
   "metadata": {},
   "source": [
    "The returned token IDs are zero-padded. This can easily be turned into a mask:"
   ]
  },
  {
   "cell_type": "code",
   "execution_count": 16,
   "id": "97c9863c",
   "metadata": {},
   "outputs": [
    {
     "data": {
      "text/plain": [
       "Text(0.5, 1.0, 'Mask')"
      ]
     },
     "execution_count": 16,
     "metadata": {},
     "output_type": "execute_result"
    },
    {
     "data": {
      "image/png": "[encoded data removed]",
      "text/plain": [
       "<Figure size 640x480 with 2 Axes>"
      ]
     },
     "metadata": {},
     "output_type": "display_data"
    }
   ],
   "source": [
    "plt.subplot(1, 2, 1)\n",
    "plt.pcolormesh(example_tokens.to_tensor())\n",
    "plt.title('Tokens IDs')\n",
    "\n",
    "plt.subplot(1,2,2)\n",
    "plt.pcolormesh(example_tokens.to_tensor() != 0)\n",
    "plt.title(\"Mask\")"
   ]
  },
  {
   "cell_type": "markdown",
   "id": "50874cca",
   "metadata": {},
   "source": [
    "### process the dataset\n",
    "\n",
    "The process_text function below converts the Datasets of strings, into 0-padded tensors of token IDs. It also converts from a (context, target) pair to an ((context, target_in), target_out) pair for training with keras.Model.fit. Keras expects (inputs, labels) pairs, the inputs are the (context, target_in) and the labels are target_out. The difference between target_in and target_out is that they are shifted by one step relative to eachother, so that at each location the label is the next token.\n",
    "\n"
   ]
  },
  {
   "cell_type": "code",
   "execution_count": 17,
   "id": "ae2dab1a",
   "metadata": {},
   "outputs": [],
   "source": [
    "def process_text(context, target):\n",
    "    context = context_text_processor(context).to_tensor()\n",
    "    target = target_text_processor(target)\n",
    "    targ_in = target[:, : -1].to_tensor()\n",
    "    targ_out = target[:, 1:].to_tensor()\n",
    "    return (context, targ_in), targ_out\n",
    "\n",
    "train_ds = train_raw.map(process_text, tf.data.AUTOTUNE)\n",
    "val_ds = val_raw.map(process_text, tf.data.AUTOTUNE)"
   ]
  },
  {
   "cell_type": "code",
   "execution_count": 18,
   "id": "e75c03f3",
   "metadata": {},
   "outputs": [
    {
     "name": "stdout",
     "output_type": "stream",
     "text": [
      "[  2 291  10  19   1   4   3   0   0   0]\n",
      "\n",
      "[ 2 80 34 19  9 19 65 61 17  4]\n",
      "[80 34 19  9 19 65 61 17  4  3]\n"
     ]
    }
   ],
   "source": [
    "for (ex_context_tok, ex_tar_in), ex_tar_out in train_ds.take(1):\n",
    "    print(ex_context_tok[0, :10].numpy()) \n",
    "    print()\n",
    "    print(ex_tar_in[0, :10].numpy()) \n",
    "    print(ex_tar_out[0, :10].numpy())"
   ]
  },
  {
   "cell_type": "markdown",
   "id": "fc057384",
   "metadata": {},
   "source": [
    "### The encoder/decoder\n",
    "\n",
    "The following diagrams shows an overview of the model. In both the encoder is on the left, the decoder is on the right. At each time-step the decoder's output is combined with the encoder's output, to predict the next word.\n",
    "\n",
    "The original [left] contains a few extra connections that are intentionally omitted from this tutorial's model [right], as they are generally unnecessary, and difficult to implement. Those missing connections are:\n",
    "\n",
    "\n",
    "    1. Feeding the state from the encoder's RNN to the decoder's RNN.\n",
    "    2. Feeding the attention output back to the RNN's input.\n",
    "\n"
   ]
  },
  {
   "cell_type": "code",
   "execution_count": 19,
   "id": "32ea7ec3",
   "metadata": {},
   "outputs": [],
   "source": [
    "units = 256"
   ]
  },
  {
   "cell_type": "markdown",
   "id": "27406139",
   "metadata": {},
   "source": [
    "**The encoder:** The goal of the encoder is to process the context sequence into a sequence of vectors that are useful for the decoder as it attempts to predict the next output for each timestep. Since the context sequence is constant, there is no restriction on how information can flow in the encoder, so use a bidirectional-RNN to do the processing:\n",
    "\n",
    "1. Takes a list of token IDs (from context_text_processor).\n",
    "2. Looks up an embedding vector for each token (Using a layers.Embedding).\n",
    "3. Processes the embeddings into a new sequence (Using a bidirectional layers.GRU).\n",
    "4. Returns the processed sequence. This will be passed to the attention head."
   ]
  },
  {
   "cell_type": "code",
   "execution_count": 65,
   "id": "97be972b",
   "metadata": {},
   "outputs": [],
   "source": [
    "class Encoder(tf.keras.layers.Layer):\n",
    "    def __init__(self, text_processor, units):\n",
    "        super(Encoder, self).__init__()\n",
    "        self.text_processor = text_processor\n",
    "        self.vocab_size = text_processor.vocabulary_size()\n",
    "        self.units = units\n",
    "        \n",
    "        # the embedding layer converts token to vectors\n",
    "        self.embedding = tf.keras.layers.Embedding(self.vocab_size, units,\n",
    "                                                  mask_zero=True)\n",
    "        \n",
    "        # The RNN layer processes those vectors sequentially\n",
    "        self.rnn = tf.keras.layers.Bidirectional(\n",
    "            merge_mode='sum',\n",
    "            layer=tf.keras.layers.GRU(units, return_sequences=True,\n",
    "                                     recurrent_initializer='glorot_uniform')\n",
    "            \n",
    "        )\n",
    "    def call(self, x):\n",
    "\n",
    "        \n",
    "        x = self.embedding(x)\n",
    "        \n",
    "        x = self.rnn(x)\n",
    "        \n",
    "        return x\n",
    "    def convert_inputs(self, texts):\n",
    "        texts = tf.convert_to_tensor(texts)\n",
    "        if len(texts.shape) == 0:\n",
    "            texts = tf.convert_to_tensor(texts)[tf.newaxis]\n",
    "        context = self.text_processor(texts).to_tensor()\n",
    "        context = self(context)\n",
    "        return context\n",
    "        "
   ]
  },
  {
   "cell_type": "code",
   "execution_count": 21,
   "id": "d5b8ee4c",
   "metadata": {},
   "outputs": [
    {
     "name": "stdout",
     "output_type": "stream",
     "text": [
      "Context tokens, shape (batch, s): (64, 20)\n",
      "Encoder output, shape (batch, s, units): (64, 20, 256)\n"
     ]
    }
   ],
   "source": [
    "# Encode the input sequence.\n",
    "encoder = Encoder(context_text_processor, units)\n",
    "ex_context = encoder(ex_context_tok)\n",
    "\n",
    "print(f'Context tokens, shape (batch, s): {ex_context_tok.shape}')\n",
    "print(f'Encoder output, shape (batch, s, units): {ex_context.shape}')"
   ]
  },
  {
   "cell_type": "code",
   "execution_count": 22,
   "id": "bc998907",
   "metadata": {},
   "outputs": [
    {
     "data": {
      "text/plain": [
       "TensorShape([64, 20])"
      ]
     },
     "execution_count": 22,
     "metadata": {},
     "output_type": "execute_result"
    }
   ],
   "source": [
    "ex_context_tok.shape"
   ]
  },
  {
   "cell_type": "markdown",
   "id": "d735fb67",
   "metadata": {},
   "source": [
    "### The attention layer\n",
    "\n",
    "The attention layer lets the decoder access the information extracted by the encoder. It computes a vector from the entire context sequence, and adds that to the decoder's output.\n",
    "\n",
    "The simplest way you could calculate a single vector from the entire sequence would be to take the average across the sequence (layers.GlobalAveragePooling1D). An attention layer is similar, but calculates a weighted average across the context sequence. Where the weights are calculated from the combination of context and \"query\" vectors."
   ]
  },
  {
   "cell_type": "markdown",
   "id": "a81f047b",
   "metadata": {},
   "source": [
    "### **Cross Attention:**\n",
    "Cross-attention is a type of attention mechanism that allows one sequence of data (the \"query\") to focus on another sequence of data (the \"context\" or \"key-value pairs\"). It is commonly used in neural networks, particularly in Transformer architectures, to enable interaction between different sequences of data.\n",
    "\n",
    "**key concepts:** \n",
    "\n",
    "1. `Query (Q):` The sequence for which we want to compute the attention scores. In cross-attention, this often represents the target sequence we want to predict or analyze.\n",
    "2. `Key (K):` The sequence that is used to compute the attention scores. It helps in identifying how much focus each element of the query should give to each element of the context.\n",
    "3. `Value (V):` The sequence that contains the actual values to be attended to, based on the computed attention scores from the query and key interaction.\n",
    "\n",
    "\n",
    "**Mechanism of Cross-Attention:**\n",
    "\n",
    "The cross-attention mechanism works by:\n",
    "\n",
    "1. Computing the dot products between the queries and keys to get raw attention scores.\n",
    "2. Scaling the attention scores by the square root of the key dimension to maintain stability.\n",
    "3. Applying the softmax function to these scores to get normalized attention weights.\n",
    "4. Using these attention weights to compute a weighted sum of the values, resulting in the attended output.\n",
    "\n",
    "\n",
    "\n",
    "**Summary:**\n",
    "Cross-attention is a mechanism that allows one sequence to focus on another sequence, enhancing the representation and understanding by incorporating relevant contextual information. It is a crucial component in various neural network architectures, particularly in Transformer models, enabling tasks like machine translation, text summarization, and multimodal learning.\n",
    "\n",
    "**Example of use cases:** Machine Translation, Text summarization, image Captioning, Multimodal Learning. "
   ]
  },
  {
   "cell_type": "code",
   "execution_count": null,
   "id": "e8ec3140",
   "metadata": {},
   "outputs": [],
   "source": []
  },
  {
   "cell_type": "code",
   "execution_count": 23,
   "id": "3b58b979",
   "metadata": {},
   "outputs": [],
   "source": [
    "class CrossAttention(tf.keras.layers.Layer):\n",
    "    def __init__(self, units, **kwargs):\n",
    "        super().__init__()\n",
    "        self.mha = tf.keras.layers.MultiHeadAttention(key_dim=units, num_heads=1, **kwargs)\n",
    "        self.layernorm = tf.keras.layers.LayerNormalization()\n",
    "        self.add = tf.keras.layers.Add()\n",
    "        \n",
    "    def call(self, x, context):\n",
    "        attn_output, attn_scores = self.mha(\n",
    "            query=x,\n",
    "            value=context,\n",
    "            return_attention_scores = True\n",
    "        )\n",
    "        \n",
    "        attn_scores = tf.reduce_mean(attn_scores, axis=-1)\n",
    "        self.last_attention_weights = attn_scores\n",
    "        \n",
    "        x = self.add([x, attn_output])\n",
    "        x = self.layernorm(x)\n",
    "        \n",
    "        return x"
   ]
  },
  {
   "cell_type": "code",
   "execution_count": 24,
   "id": "20628500",
   "metadata": {},
   "outputs": [
    {
     "name": "stdout",
     "output_type": "stream",
     "text": [
      "Context sequence, shape (batch, s, units): (64, 20, 256)\n",
      "Target sequence, shape (batch, t, units): (64, 20, 256)\n",
      "Attention result, shape (batch, t, units): (64, 20, 256)\n",
      "Attention weights, shape (batch, t, s):    (64, 1, 20)\n"
     ]
    }
   ],
   "source": [
    "attention_layer = CrossAttention(units)\n",
    "\n",
    "# Attend to the encoded tokens\n",
    "embed = tf.keras.layers.Embedding(target_text_processor.vocabulary_size(), \n",
    "                                 output_dim=units, mask_zero=True)\n",
    "ex_tar_embed = embed(ex_tar_in)\n",
    "result = attention_layer(ex_tar_embed, ex_context)\n",
    "\n",
    "print(f'Context sequence, shape (batch, s, units): {ex_context.shape}')\n",
    "print(f'Target sequence, shape (batch, t, units): {ex_tar_embed.shape}')\n",
    "print(f'Attention result, shape (batch, t, units): {result.shape}')\n",
    "print(f'Attention weights, shape (batch, t, s):    {attention_layer.last_attention_weights.shape}')"
   ]
  },
  {
   "cell_type": "markdown",
   "id": "4b26a124",
   "metadata": {},
   "source": [
    "The attention weights will sum to 1 over the context sequence, at each location in the target sequence."
   ]
  },
  {
   "cell_type": "code",
   "execution_count": 25,
   "id": "234523c7",
   "metadata": {},
   "outputs": [
    {
     "data": {
      "text/plain": [
       "array([1.], dtype=float32)"
      ]
     },
     "execution_count": 25,
     "metadata": {},
     "output_type": "execute_result"
    }
   ],
   "source": [
    "attention_layer.last_attention_weights[0].numpy().sum(axis=-1)"
   ]
  },
  {
   "cell_type": "code",
   "execution_count": null,
   "id": "c6080d10",
   "metadata": {},
   "outputs": [],
   "source": []
  },
  {
   "cell_type": "markdown",
   "id": "ed940721",
   "metadata": {},
   "source": [
    "### Decoder \n",
    "\n",
    "The decoder's job is to generate predictions for the next token at each location in the target sequence.\n",
    "\n",
    "1. It looks up embeddings for each token in the target sequence.\n",
    "2. It uses an RNN to process the target sequence, and keep track of what it has generated so far.\n",
    "3. It uses RNN output as the \"query\" to the attention layer, when attending to the encoder's output.\n",
    "4. At each location in the output it predicts the next token.\n",
    "\n",
    "\n",
    "When training, the model predicts the next word at each location. So it's important that the information only flows in one direction through the model. The decoder uses a unidirectional (not bidirectional) RNN to process the target sequence.\n",
    "\n",
    "\n",
    "When running inference with this model it produces one word at a time, and those are fed back into the model"
   ]
  },
  {
   "cell_type": "code",
   "execution_count": 26,
   "id": "853162e3",
   "metadata": {},
   "outputs": [],
   "source": [
    "class Decoder(tf.keras.layers.Layer):\n",
    "  @classmethod\n",
    "  def add_method(cls, fun):\n",
    "    setattr(cls, fun.__name__, fun)\n",
    "    return fun\n",
    "\n",
    "  def __init__(self, text_processor, units):\n",
    "    super(Decoder, self).__init__()\n",
    "    self.text_processor = text_processor\n",
    "    \n",
    "    self.vocab_size = text_processor.vocabulary_size()\n",
    "    \n",
    "    self.word_to_id = tf.keras.layers.StringLookup(\n",
    "        vocabulary=text_processor.get_vocabulary(),\n",
    "        mask_token='', oov_token='[UNK]')\n",
    "    \n",
    "    self.id_to_word = tf.keras.layers.StringLookup(\n",
    "        vocabulary=text_processor.get_vocabulary(),\n",
    "        mask_token='', oov_token='[UNK]',\n",
    "        invert=True)\n",
    "    \n",
    "    self.start_token = self.word_to_id('[START]')\n",
    "    \n",
    "    self.end_token = self.word_to_id('[END]')\n",
    "\n",
    "    self.units = units\n",
    "\n",
    "\n",
    "    # 1. The embedding layer converts token IDs to vectors\n",
    "    self.embedding = tf.keras.layers.Embedding(self.vocab_size,\n",
    "                                               units, mask_zero=True)\n",
    "\n",
    "    # 2. The RNN keeps track of what's been generated so far.\n",
    "    self.rnn = tf.keras.layers.GRU(units,\n",
    "                                   return_sequences=True,\n",
    "                                   return_state=True,\n",
    "                                   recurrent_initializer='glorot_uniform')\n",
    "\n",
    "    # 3. The RNN output will be the query for the attention layer.\n",
    "    self.attention = CrossAttention(units)\n",
    "\n",
    "    # 4. This fully connected layer produces the logits for each\n",
    "    # output token.\n",
    "    self.output_layer = tf.keras.layers.Dense(self.vocab_size)\n",
    "        "
   ]
  },
  {
   "cell_type": "markdown",
   "id": "e27ac1ae",
   "metadata": {},
   "source": [
    "### Training \n",
    "\n",
    "Next, the `call` method, takes 3 arguments:\n",
    "\n",
    "1. `inputs` - a `context, x` pair where:\n",
    "    * `context` - is the context from the encoder's output.\n",
    "    * x - is the target sequence input.\n",
    "        \n",
    "2. `state `- Optional, the previous state output from the decoder (the internal state of the decoder's RNN). Pass the state from a previous run to continue generating text where you left off.\n",
    "3. `return_state` - [Default: False] - Set this to True to return the RNN state."
   ]
  },
  {
   "cell_type": "code",
   "execution_count": 27,
   "id": "418ea046",
   "metadata": {},
   "outputs": [],
   "source": [
    "@Decoder.add_method\n",
    "def call(self,\n",
    "        context, x,\n",
    "        state=None,\n",
    "        return_state=False):\n",
    "    # lookup the embedding\n",
    "    x = self.embedding(x)\n",
    "    \n",
    "    # Process the target sequence.\n",
    "    x, state = self.rnn(x, initial_state=state)\n",
    "    \n",
    "    # Use the RNN output as the query for the attention over the contet\n",
    "    x = self.attention(x, context)\n",
    "    self.last_attention_weights = self.attention.last_attention_weights\n",
    "    \n",
    "    # Generate logit predictions for the next token\n",
    "    logits = self.output_layer(x)\n",
    "    \n",
    "    if return_state:\n",
    "        return logits, state\n",
    "    else:\n",
    "        return logits"
   ]
  },
  {
   "cell_type": "markdown",
   "id": "b3b024d7",
   "metadata": {},
   "source": [
    "That will be sufficient for training. Create an instance of the decoder to test out:"
   ]
  },
  {
   "cell_type": "code",
   "execution_count": 28,
   "id": "5e949022",
   "metadata": {},
   "outputs": [],
   "source": [
    "decoder = Decoder(target_text_processor, units)"
   ]
  },
  {
   "cell_type": "code",
   "execution_count": 29,
   "id": "016de665",
   "metadata": {},
   "outputs": [
    {
     "name": "stdout",
     "output_type": "stream",
     "text": [
      "encoder output shape: (batch, s, units) (64, 20, 256)\n",
      "input target tokens shape: (batch, t) (64, 20)\n",
      "logits shape shape: (batch, target_vocabulary_size) (64, 20, 5000)\n"
     ]
    }
   ],
   "source": [
    "logits = decoder(ex_context, ex_tar_in)\n",
    "\n",
    "print(f'encoder output shape: (batch, s, units) {ex_context.shape}')\n",
    "print(f'input target tokens shape: (batch, t) {ex_tar_in.shape}')\n",
    "print(f'logits shape shape: (batch, target_vocabulary_size) {logits.shape}')"
   ]
  },
  {
   "cell_type": "markdown",
   "id": "0c495959",
   "metadata": {},
   "source": [
    "#### Inference \n",
    "\n",
    "To use it for inference you'll need a couple more methods"
   ]
  },
  {
   "cell_type": "code",
   "execution_count": 30,
   "id": "f89ecba8",
   "metadata": {},
   "outputs": [],
   "source": [
    "@Decoder.add_method\n",
    "def get_initial_state(self, context):\n",
    "    batch_size = tf.shape(context)[0]\n",
    "    start_tokens = tf.fill([batch_size, 1], self.start_token)\n",
    "    done = tf.zeros([batch_size, 1], dtype=tf.bool)\n",
    "    embedded = self.embedding(start_tokens)\n",
    "    return start_tokens, done, self.rnn.get_initial_state(embedded)[0]"
   ]
  },
  {
   "cell_type": "code",
   "execution_count": 31,
   "id": "6047c67a",
   "metadata": {},
   "outputs": [],
   "source": [
    "chars_to_id = tf.keras.layers.StringLookup(vocabulary=target_text_processor.get_vocabulary(),\n",
    "                                          mask_token='', oov_token='[UNK]')\n",
    "id_to_chars = tf.keras.layers.StringLookup(vocabulary=target_text_processor.get_vocabulary(),\n",
    "                                          mask_token='', oov_token='[UNK]')"
   ]
  },
  {
   "cell_type": "code",
   "execution_count": null,
   "id": "c28b26ef",
   "metadata": {},
   "outputs": [],
   "source": []
  },
  {
   "cell_type": "code",
   "execution_count": null,
   "id": "573380ef",
   "metadata": {},
   "outputs": [],
   "source": []
  },
  {
   "cell_type": "code",
   "execution_count": 33,
   "id": "20856205",
   "metadata": {},
   "outputs": [],
   "source": [
    "@Decoder.add_method\n",
    "def tokens_to_text(self, tokens):\n",
    "    words = self.id_to_word(tokens)\n",
    "    result = tf.strings.reduce_join(words, axis=-1, separator=' ')\n",
    "    result = tf.strings.regex_replace(result, '^ *\\[START\\] *', '')\n",
    "    result = tf.strings.regex_replace(result, ' *\\[END\\] *$', '')\n",
    "    return result"
   ]
  },
  {
   "cell_type": "markdown",
   "id": "116c4ebe",
   "metadata": {},
   "source": [
    "#### Explainnation:\n",
    "\n",
    "the shape of context is: `[batch_size, sequence_length, vocab_size]`\n",
    "\n",
    "1. tf.argmax(logits, axis=-1): it is used to select the token with highest probability for each time step across the `vocab size`. which is the intended to behaviour for selecteing most likely next token. token is nothing but a index of word. which we convert the word into index number by `text vecoriztion`. and we also do this here. we take the index of highest probability. then we can take word by `id_to_word` object. After this operation, output shape will be two which is `[batch_size, sequence_length]`.\n",
    "\n",
    "\n",
    "2. The line `logits = logits[:, -1, :] / temperature` in the `else` section of the get_next_token function is used to implement sampling with temperature. This is a common technique to control the randomness and diversity of the generated sequence. \n",
    "    `Temperature scaling` is a technique used to adjust the probabilities produced by a model before sampling from them. It controls the \"confidence\" of the model's predictions.\n",
    "\n",
    "    `logits[:, -1, :]:` This selects the logits for the last time step of each sequence in the batch.\n",
    "\n",
    "    If logits has the shape `[batch_size, sequence_length, vocab_size]`, then `logits[:, -1, :]` will have the shape `[batch_size, vocab_size]`.\n",
    "\n",
    "    **Why only last logits:** In sequence generation tasks, tokens are generated one at a time in a sequential manner. At each step, the model generates the next token based on the previously generated tokens and the context from the encoder. This means that at any given step, you are only concerned with predicting the next token, not multiple tokens simultaneously.\n",
    "\n",
    "    During generation, at each time step, you only need the logits corresponding to the current prediction step. The last time step (-1) represents the logits for the current step where the next token needs to be predicted.\n",
    "\n"
   ]
  },
  {
   "cell_type": "code",
   "execution_count": 34,
   "id": "eaa1e05b",
   "metadata": {},
   "outputs": [],
   "source": [
    "@Decoder.add_method\n",
    "def get_next_token(self, context, next_token, done, state, temperature=0.0):\n",
    "    logits, state = self(context, next_token, state=state, return_state=True)\n",
    "    \n",
    "    if temperature == 0.0:\n",
    "        next_token = tf.argmax(logits, axis=-1)\n",
    "    else:\n",
    "        logits = logits[:, -1,:]/temperature\n",
    "        next_token = tf.random.categorical(logits, num_samples=1)\n",
    "    # If sequence produces an 'end token' set it 'done'\n",
    "    done = done | (next_token == self.end_token)\n",
    "    \n",
    "    #Once a sequence is done it only  produces 0-padding\n",
    "    next_token = tf.where(done, tf.constant(0, dtype=tf.int64), next_token)\n",
    "    \n",
    "    return next_token, done, state"
   ]
  },
  {
   "cell_type": "markdown",
   "id": "db374cab",
   "metadata": {},
   "source": [
    "With those extra functions, you can write a generation loop:"
   ]
  },
  {
   "cell_type": "code",
   "execution_count": 35,
   "id": "2d5ceaf0",
   "metadata": {},
   "outputs": [
    {
     "data": {
      "text/plain": [
       "array([b'straight thinner slumped appreciated american mix ear speaks sent tomorrow',\n",
       "       b'sauce breathe luck young wants reaction insane quick pretends stalling',\n",
       "       b'cats pouring spend workaholic inspiration cab neither forgave chemical herself'],\n",
       "      dtype=object)"
      ]
     },
     "execution_count": 35,
     "metadata": {},
     "output_type": "execute_result"
    }
   ],
   "source": [
    "# Setup the loop variables\n",
    "next_token, done, state = decoder.get_initial_state(ex_context)\n",
    "tokens = []\n",
    "\n",
    "for n in range(10):\n",
    "    # Run one step\n",
    "    next_token, done, state = decoder.get_next_token(\n",
    "    ex_context, next_token, done, state, temperature=1.0)\n",
    "    \n",
    "    # add the token to the output\n",
    "    tokens.append(next_token)\n",
    "# Stack all the tokens together\n",
    "tokens = tf.concat(tokens, axis=-1) # (batch t)\n",
    "\n",
    "# convert the tokens back to a string\n",
    "result = decoder.tokens_to_text(tokens)\n",
    "result[:3].numpy()"
   ]
  },
  {
   "cell_type": "markdown",
   "id": "97dd63b9",
   "metadata": {},
   "source": [
    "Since the model's untrained, it outputs items from the vocabulary almost uniformly at random."
   ]
  },
  {
   "cell_type": "markdown",
   "id": "d5e09e68",
   "metadata": {},
   "source": [
    "### The Model\n",
    "\n",
    "Now that you have all the model components, combine them to build the model for training:"
   ]
  },
  {
   "cell_type": "code",
   "execution_count": 36,
   "id": "37e749c1",
   "metadata": {},
   "outputs": [],
   "source": [
    "class Translator(tf.keras.Model):\n",
    "    @classmethod\n",
    "    def add_method(cls, fun):\n",
    "        setattr(cls, fun.__name__, fun)\n",
    "        return fun\n",
    "    def __init__(self, units,\n",
    "               context_text_processor,\n",
    "               target_text_processor):\n",
    "        super().__init__()\n",
    "        # build the encoder and decoder\n",
    "        encoder = Encoder(context_text_processor, units)\n",
    "        decoder = Decoder(target_text_processor, units)\n",
    "        \n",
    "        self.encoder = encoder\n",
    "        self.decoder = decoder\n",
    "        \n",
    "    def call(self, inputs):\n",
    "        context, x = inputs\n",
    "        context = self.encoder(context)\n",
    "        logits = self.decoder(context, x)\n",
    "        \n",
    "        #TODO(b/250038731): remove this\n",
    "        try:\n",
    "            del logits._keras_mask\n",
    "        except AttributeError:\n",
    "            pass\n",
    "        return logits\n",
    "    "
   ]
  },
  {
   "cell_type": "markdown",
   "id": "7e30fbe6",
   "metadata": {},
   "source": [
    "During training the model will be used like this:"
   ]
  },
  {
   "cell_type": "code",
   "execution_count": 37,
   "id": "c0a70330",
   "metadata": {},
   "outputs": [
    {
     "name": "stdout",
     "output_type": "stream",
     "text": [
      "Context tokens, shape: (batch, s, units) (64, 20)\n",
      "Target tokens, shape: (batch, t) (64, 20)\n",
      "logits, shape: (batch, t, target_vocabulary_size) (64, 20, 5000)\n"
     ]
    }
   ],
   "source": [
    "model = Translator(units, context_text_processor, target_text_processor)\n",
    "\n",
    "logits = model((ex_context_tok, ex_tar_in))\n",
    "\n",
    "print(f'Context tokens, shape: (batch, s, units) {ex_context_tok.shape}')\n",
    "print(f'Target tokens, shape: (batch, t) {ex_tar_in.shape}')\n",
    "print(f'logits, shape: (batch, t, target_vocabulary_size) {logits.shape}')"
   ]
  },
  {
   "cell_type": "markdown",
   "id": "cb38939e",
   "metadata": {},
   "source": [
    "### Train\n",
    "For training, you'll want to implement your own masked loss and accuracy functions:\n"
   ]
  },
  {
   "cell_type": "code",
   "execution_count": 38,
   "id": "737ff892",
   "metadata": {},
   "outputs": [],
   "source": [
    "def masked_loss(y_true, y_pred):\n",
    "    # calculate the loss for each item in the batch\n",
    "    loss_fn = tf.keras.losses.SparseCategoricalCrossentropy(\n",
    "    from_logits=True, reduction='none')\n",
    "    loss = loss_fn(y_true, y_pred)\n",
    "    \n",
    "    # mask offthe losses on the padding\n",
    "    mask = tf.cast(y_true != 0, loss.dtype)\n",
    "    \n",
    "    loss *= mask\n",
    "    \n",
    "    # return the total\n",
    "    return tf.reduce_sum(loss)/tf.reduce_sum(mask)\n"
   ]
  },
  {
   "cell_type": "code",
   "execution_count": 39,
   "id": "fff2001a",
   "metadata": {},
   "outputs": [],
   "source": [
    "def masked_acc(y_true, y_pred):\n",
    "    # Calculate the loss for each item in the batch.\n",
    "    y_pred = tf.argmax(y_pred, axis=-1)\n",
    "    y_pred = tf.cast(y_pred, y_true.dtype)\n",
    "\n",
    "    match = tf.cast(y_true == y_pred, tf.float32)\n",
    "    mask = tf.cast(y_true != 0, tf.float32)\n",
    "\n",
    "    return tf.reduce_sum(match)/tf.reduce_sum(mask)"
   ]
  },
  {
   "cell_type": "code",
   "execution_count": 40,
   "id": "301dbe70",
   "metadata": {},
   "outputs": [],
   "source": [
    "# configure for training\n",
    "\n",
    "model.compile(optimizer='adam',\n",
    "              loss=masked_loss, \n",
    "              metrics=[masked_acc, masked_loss])"
   ]
  },
  {
   "cell_type": "markdown",
   "id": "cd8e8dcb",
   "metadata": {},
   "source": [
    "The model is randomly initialized, and should give roughly uniform output probabilities. So it's easy to predict what the initial values of the metrics should be:"
   ]
  },
  {
   "cell_type": "code",
   "execution_count": 41,
   "id": "7c379c47",
   "metadata": {},
   "outputs": [
    {
     "data": {
      "text/plain": [
       "{'expected_loss': 8.517193, 'expected_acc': 0.0002}"
      ]
     },
     "execution_count": 41,
     "metadata": {},
     "output_type": "execute_result"
    }
   ],
   "source": [
    "vocab_size = 1.0 * target_text_processor.vocabulary_size()\n",
    "\n",
    "{\"expected_loss\": tf.math.log(vocab_size).numpy(),\n",
    " \"expected_acc\": 1/vocab_size}"
   ]
  },
  {
   "cell_type": "markdown",
   "id": "6ed6975d",
   "metadata": {},
   "source": [
    "That should roughly match the values returned by running a few steps of evaluation:"
   ]
  },
  {
   "cell_type": "code",
   "execution_count": 42,
   "id": "f2004249",
   "metadata": {},
   "outputs": [
    {
     "name": "stdout",
     "output_type": "stream",
     "text": [
      "20/20 [==============================] - 11s 134ms/step - loss: 8.5244 - masked_acc: 9.1575e-05 - masked_loss: 8.5244\n"
     ]
    },
    {
     "data": {
      "text/plain": [
       "{'loss': 8.524397850036621,\n",
       " 'masked_acc': 9.157509339274839e-05,\n",
       " 'masked_loss': 8.524397850036621}"
      ]
     },
     "execution_count": 42,
     "metadata": {},
     "output_type": "execute_result"
    }
   ],
   "source": [
    "model.evaluate(val_ds, steps=20, return_dict=True)"
   ]
  },
  {
   "cell_type": "code",
   "execution_count": 43,
   "id": "63ca7179",
   "metadata": {},
   "outputs": [
    {
     "name": "stdout",
     "output_type": "stream",
     "text": [
      "Epoch 1/100\n",
      "100/100 [==============================] - 48s 350ms/step - loss: 5.0108 - masked_acc: 0.2639 - masked_loss: 5.0108 - val_loss: 4.0923 - val_masked_acc: 0.3577 - val_masked_loss: 4.0923\n",
      "Epoch 2/100\n",
      "100/100 [==============================] - 36s 356ms/step - loss: 3.6779 - masked_acc: 0.4060 - masked_loss: 3.6779 - val_loss: 3.3417 - val_masked_acc: 0.4475 - val_masked_loss: 3.3417\n",
      "Epoch 3/100\n",
      "100/100 [==============================] - 34s 342ms/step - loss: 3.1063 - masked_acc: 0.4791 - masked_loss: 3.1063 - val_loss: 2.8510 - val_masked_acc: 0.5203 - val_masked_loss: 2.8510\n",
      "Epoch 4/100\n",
      "100/100 [==============================] - 35s 351ms/step - loss: 2.6953 - masked_acc: 0.5434 - masked_loss: 2.6953 - val_loss: 2.5523 - val_masked_acc: 0.5595 - val_masked_loss: 2.5523\n",
      "Epoch 5/100\n",
      "100/100 [==============================] - 36s 356ms/step - loss: 2.3959 - masked_acc: 0.5813 - masked_loss: 2.3959 - val_loss: 2.2537 - val_masked_acc: 0.6003 - val_masked_loss: 2.2537\n",
      "Epoch 6/100\n",
      "100/100 [==============================] - 35s 353ms/step - loss: 2.1536 - masked_acc: 0.6182 - masked_loss: 2.1536 - val_loss: 2.0171 - val_masked_acc: 0.6361 - val_masked_loss: 2.0171\n",
      "Epoch 7/100\n",
      "100/100 [==============================] - 37s 365ms/step - loss: 2.0043 - masked_acc: 0.6398 - masked_loss: 2.0043 - val_loss: 1.9514 - val_masked_acc: 0.6475 - val_masked_loss: 1.9514\n",
      "Epoch 8/100\n",
      "100/100 [==============================] - 38s 382ms/step - loss: 1.8723 - masked_acc: 0.6576 - masked_loss: 1.8723 - val_loss: 1.8471 - val_masked_acc: 0.6630 - val_masked_loss: 1.8471\n",
      "Epoch 9/100\n",
      "100/100 [==============================] - 38s 382ms/step - loss: 1.7836 - masked_acc: 0.6688 - masked_loss: 1.7836 - val_loss: 1.6847 - val_masked_acc: 0.6834 - val_masked_loss: 1.6847\n",
      "Epoch 10/100\n",
      "100/100 [==============================] - 39s 394ms/step - loss: 1.6753 - masked_acc: 0.6867 - masked_loss: 1.6753 - val_loss: 1.6218 - val_masked_acc: 0.6922 - val_masked_loss: 1.6218\n",
      "Epoch 11/100\n",
      "100/100 [==============================] - 41s 407ms/step - loss: 1.6114 - masked_acc: 0.6962 - masked_loss: 1.6114 - val_loss: 1.5927 - val_masked_acc: 0.6984 - val_masked_loss: 1.5927\n",
      "Epoch 12/100\n",
      "100/100 [==============================] - 40s 400ms/step - loss: 1.5619 - masked_acc: 0.7032 - masked_loss: 1.5619 - val_loss: 1.4765 - val_masked_acc: 0.7146 - val_masked_loss: 1.4765\n",
      "Epoch 13/100\n",
      "100/100 [==============================] - 41s 414ms/step - loss: 1.5080 - masked_acc: 0.7074 - masked_loss: 1.5080 - val_loss: 1.4411 - val_masked_acc: 0.7207 - val_masked_loss: 1.4411\n",
      "Epoch 14/100\n",
      "100/100 [==============================] - 41s 406ms/step - loss: 1.4721 - masked_acc: 0.7141 - masked_loss: 1.4721 - val_loss: 1.4262 - val_masked_acc: 0.7188 - val_masked_loss: 1.4262\n",
      "Epoch 15/100\n",
      "100/100 [==============================] - 41s 414ms/step - loss: 1.3882 - masked_acc: 0.7249 - masked_loss: 1.3871 - val_loss: 1.3780 - val_masked_acc: 0.7281 - val_masked_loss: 1.3780\n",
      "Epoch 16/100\n",
      "100/100 [==============================] - 42s 416ms/step - loss: 1.2007 - masked_acc: 0.7484 - masked_loss: 1.2007 - val_loss: 1.4240 - val_masked_acc: 0.7232 - val_masked_loss: 1.4240\n",
      "Epoch 17/100\n",
      "100/100 [==============================] - 41s 409ms/step - loss: 1.2110 - masked_acc: 0.7476 - masked_loss: 1.2110 - val_loss: 1.3819 - val_masked_acc: 0.7286 - val_masked_loss: 1.3819\n",
      "Epoch 18/100\n",
      "100/100 [==============================] - 42s 419ms/step - loss: 1.2167 - masked_acc: 0.7462 - masked_loss: 1.2167 - val_loss: 1.4046 - val_masked_acc: 0.7261 - val_masked_loss: 1.4046\n"
     ]
    }
   ],
   "source": [
    "history = model.fit(\n",
    "    train_ds.repeat(), \n",
    "    epochs=100,\n",
    "    steps_per_epoch = 100,\n",
    "    validation_data=val_ds,\n",
    "    validation_steps = 20,\n",
    "    callbacks=[\n",
    "        tf.keras.callbacks.EarlyStopping(patience=3)])"
   ]
  },
  {
   "cell_type": "code",
   "execution_count": 44,
   "id": "83bfe90a",
   "metadata": {},
   "outputs": [
    {
     "data": {
      "text/plain": [
       "<matplotlib.legend.Legend at 0x1b8c60599f0>"
      ]
     },
     "execution_count": 44,
     "metadata": {},
     "output_type": "execute_result"
    },
    {
     "data": {
      "image/png": "[encoded data removed]",
      "text/plain": [
       "<Figure size 640x480 with 1 Axes>"
      ]
     },
     "metadata": {},
     "output_type": "display_data"
    }
   ],
   "source": [
    "plt.plot(history.history['loss'], label='loss')\n",
    "plt.plot(history.history['val_loss'], label='val_loss')\n",
    "plt.ylim([0, max(plt.ylim())])\n",
    "plt.xlabel('Epoch #')\n",
    "plt.ylabel('CE/token')\n",
    "plt.legend()"
   ]
  },
  {
   "cell_type": "code",
   "execution_count": 45,
   "id": "2247bbfc",
   "metadata": {},
   "outputs": [
    {
     "data": {
      "text/plain": [
       "<matplotlib.legend.Legend at 0x1b8ae4a6260>"
      ]
     },
     "execution_count": 45,
     "metadata": {},
     "output_type": "execute_result"
    },
    {
     "data": {
      "image/png": "[encoded data removed]",
      "text/plain": [
       "<Figure size 640x480 with 1 Axes>"
      ]
     },
     "metadata": {},
     "output_type": "display_data"
    }
   ],
   "source": [
    "plt.plot(history.history['masked_acc'], label='accuracy')\n",
    "plt.plot(history.history['val_masked_acc'], label='val_accuracy')\n",
    "plt.ylim([0, max(plt.ylim())])\n",
    "plt.xlabel('Epoch #')\n",
    "plt.ylabel('CE/token')\n",
    "plt.legend()"
   ]
  },
  {
   "cell_type": "markdown",
   "id": "0482183f",
   "metadata": {},
   "source": [
    "Here are the two helper methods, used above, to convert tokens to text, and to get the next token:"
   ]
  },
  {
   "cell_type": "markdown",
   "id": "9b2935e1",
   "metadata": {},
   "source": []
  },
  {
   "cell_type": "markdown",
   "id": "e9e3670e",
   "metadata": {},
   "source": [
    "### Translate\n",
    "Now that the model is trained, implement a function to execute the full text => text translation. This code is basically identical to the inference example in the decoder section, but this also captures the attention weights."
   ]
  },
  {
   "cell_type": "code",
   "execution_count": 46,
   "id": "55b65335",
   "metadata": {},
   "outputs": [],
   "source": [
    "#@title\n",
    "@Translator.add_method\n",
    "def translate(self,\n",
    "              texts, *,\n",
    "              max_length=50,\n",
    "              temperature=0.0):\n",
    "  # Process the input texts\n",
    "  context = self.encoder.convert_inputs(texts)\n",
    "  batch_size = tf.shape(texts)[0]\n",
    "\n",
    "  # Setup the loop inputs\n",
    "  tokens = []\n",
    "  attention_weights = []\n",
    "  next_token, done, state = self.decoder.get_initial_state(context)\n",
    "\n",
    "  for _ in range(max_length):\n",
    "    # Generate the next token\n",
    "    next_token, done, state = self.decoder.get_next_token(\n",
    "        context, next_token, done,  state, temperature)\n",
    "        \n",
    "    # Collect the generated tokens\n",
    "    tokens.append(next_token)\n",
    "    attention_weights.append(self.decoder.last_attention_weights)\n",
    "    \n",
    "    if tf.executing_eagerly() and tf.reduce_all(done):\n",
    "      break\n",
    "\n",
    "  # Stack the lists of tokens and attention weights.\n",
    "  tokens = tf.concat(tokens, axis=-1)   # t*[(batch 1)] -> (batch, t)\n",
    "  self.last_attention_weights = tf.concat(attention_weights, axis=1)  # t*[(batch 1 s)] -> (batch, t s)\n",
    "\n",
    "  result = self.decoder.tokens_to_text(tokens)\n",
    "  return result\n",
    "            "
   ]
  },
  {
   "cell_type": "code",
   "execution_count": 66,
   "id": "5728dd4b",
   "metadata": {},
   "outputs": [],
   "source": [
    "\n",
    "#@title\n",
    "@Translator.add_method\n",
    "def plot_attention(self, text, **kwargs):\n",
    "    assert isinstance(text, str)\n",
    "    output = self.translate([text], **kwargs)\n",
    "    output = output[0].numpy().decode()\n",
    "\n",
    "    attention = self.last_attention_weights[0]\n",
    "\n",
    "    context = tf_lower_and_split_punct(text)\n",
    "    context = context.numpy().decode().split()\n",
    "\n",
    "    output = tf_lower_and_split_punct(output)\n",
    "    output = output.numpy().decode().split()[1:]\n",
    "\n",
    "    fig = plt.figure(figsize=(10, 10))\n",
    "    ax = fig.add_subplot(1, 1, 1)\n",
    "\n",
    "    ax.matshow(attention, cmap='viridis', vmin=0.0)\n",
    "\n",
    "    fontdict = {'fontsize': 14}\n",
    "\n",
    "    ax.set_xticklabels([''] + context, fontdict=fontdict, rotation=90)\n",
    "    ax.set_yticklabels([''] + output, fontdict=fontdict)\n",
    "\n",
    "    ax.xaxis.set_major_locator(ticker.MultipleLocator(1))\n",
    "    ax.yaxis.set_major_locator(ticker.MultipleLocator(1))\n",
    "\n",
    "    ax.set_xlabel('Input text')\n",
    "    ax.set_ylabel('Output text')"
   ]
  },
  {
   "cell_type": "code",
   "execution_count": 48,
   "id": "8a3892fd",
   "metadata": {},
   "outputs": [
    {
     "name": "stderr",
     "output_type": "stream",
     "text": [
      "C:\\Users\\MASUM\\AppData\\Local\\Temp\\ipykernel_15424\\2072787842.py:23: UserWarning: FixedFormatter should only be used together with FixedLocator\n",
      "  ax.set_xticklabels([''] + context, fontdict=fontdict, rotation=90)\n",
      "C:\\Users\\MASUM\\AppData\\Local\\Temp\\ipykernel_15424\\2072787842.py:24: UserWarning: FixedFormatter should only be used together with FixedLocator\n",
      "  ax.set_yticklabels([''] + output, fontdict=fontdict)\n"
     ]
    },
    {
     "data": {
      "image/png": "[encoded data removed]",
      "text/plain": [
       "<Figure size 1000x1000 with 1 Axes>"
      ]
     },
     "metadata": {},
     "output_type": "display_data"
    }
   ],
   "source": [
    "model.plot_attention('¿Todavía está en casa?') # Are you still home"
   ]
  },
  {
   "cell_type": "code",
   "execution_count": 49,
   "id": "782817d7",
   "metadata": {},
   "outputs": [
    {
     "name": "stdout",
     "output_type": "stream",
     "text": [
      "CPU times: total: 250 ms\n",
      "Wall time: 262 ms\n"
     ]
    },
    {
     "name": "stderr",
     "output_type": "stream",
     "text": [
      "C:\\Users\\MASUM\\AppData\\Local\\Temp\\ipykernel_15424\\2072787842.py:23: UserWarning: FixedFormatter should only be used together with FixedLocator\n",
      "  ax.set_xticklabels([''] + context, fontdict=fontdict, rotation=90)\n",
      "C:\\Users\\MASUM\\AppData\\Local\\Temp\\ipykernel_15424\\2072787842.py:24: UserWarning: FixedFormatter should only be used together with FixedLocator\n",
      "  ax.set_yticklabels([''] + output, fontdict=fontdict)\n"
     ]
    },
    {
     "data": {
      "image/png": "[encoded data removed]",
      "text/plain": [
       "<Figure size 1000x1000 with 1 Axes>"
      ]
     },
     "metadata": {},
     "output_type": "display_data"
    }
   ],
   "source": [
    "%%time\n",
    "# This is my life.\n",
    "model.plot_attention('Esta es mi vida.')"
   ]
  },
  {
   "cell_type": "code",
   "execution_count": 50,
   "id": "3ceada29",
   "metadata": {},
   "outputs": [
    {
     "name": "stdout",
     "output_type": "stream",
     "text": [
      "CPU times: total: 266 ms\n",
      "Wall time: 259 ms\n"
     ]
    },
    {
     "name": "stderr",
     "output_type": "stream",
     "text": [
      "C:\\Users\\MASUM\\AppData\\Local\\Temp\\ipykernel_15424\\2072787842.py:23: UserWarning: FixedFormatter should only be used together with FixedLocator\n",
      "  ax.set_xticklabels([''] + context, fontdict=fontdict, rotation=90)\n",
      "C:\\Users\\MASUM\\AppData\\Local\\Temp\\ipykernel_15424\\2072787842.py:24: UserWarning: FixedFormatter should only be used together with FixedLocator\n",
      "  ax.set_yticklabels([''] + output, fontdict=fontdict)\n"
     ]
    },
    {
     "data": {
      "image/png": "[encoded data removed]",
      "text/plain": [
       "<Figure size 1000x1000 with 1 Axes>"
      ]
     },
     "metadata": {},
     "output_type": "display_data"
    }
   ],
   "source": [
    "%%time\n",
    " # Try to find out.'\n",
    "model.plot_attention('Tratar de descubrir.')\n"
   ]
  },
  {
   "cell_type": "markdown",
   "id": "90b8da8d",
   "metadata": {},
   "source": [
    "The short sentences often work well, but if the input is too long the model literally loses focus and stops providing reasonable predictions"
   ]
  },
  {
   "cell_type": "code",
   "execution_count": 52,
   "id": "96e425f3",
   "metadata": {},
   "outputs": [
    {
     "name": "stdout",
     "output_type": "stream",
     "text": [
      "Expected output:\n",
      " If you want to sound like a native speaker, you must be willing to\n",
      "practice saying the same sentence over and over in the same way that\n",
      "banjo players practice the same phrase over and over until they can\n",
      "play it correctly and at the desired tempo.\n"
     ]
    }
   ],
   "source": [
    "long_text = context_raw[-1]\n",
    "\n",
    "import textwrap\n",
    "\n",
    "print('Expected output:\\n', '\\n'.join(textwrap.wrap(target_raw[-1])))"
   ]
  },
  {
   "cell_type": "code",
   "execution_count": 53,
   "id": "73a7b03c",
   "metadata": {},
   "outputs": [
    {
     "name": "stderr",
     "output_type": "stream",
     "text": [
      "C:\\Users\\MASUM\\AppData\\Local\\Temp\\ipykernel_15424\\2072787842.py:23: UserWarning: FixedFormatter should only be used together with FixedLocator\n",
      "  ax.set_xticklabels([''] + context, fontdict=fontdict, rotation=90)\n",
      "C:\\Users\\MASUM\\AppData\\Local\\Temp\\ipykernel_15424\\2072787842.py:24: UserWarning: FixedFormatter should only be used together with FixedLocator\n",
      "  ax.set_yticklabels([''] + output, fontdict=fontdict)\n"
     ]
    },
    {
     "data": {
      "image/png": "[encoded data removed]",
      "text/plain": [
       "<Figure size 1000x1000 with 1 Axes>"
      ]
     },
     "metadata": {},
     "output_type": "display_data"
    }
   ],
   "source": [
    "model.plot_attention(long_text)"
   ]
  },
  {
   "cell_type": "markdown",
   "id": "af1fa9f5",
   "metadata": {},
   "source": [
    "The `translate function` works on batches, so if you have multiple texts to translate you can pass them all at once, which is much more efficient than translating them one at a time"
   ]
  },
  {
   "cell_type": "code",
   "execution_count": 54,
   "id": "4f55e27c",
   "metadata": {},
   "outputs": [],
   "source": [
    "inputs = [\n",
    "    'Hace mucho frio aqui.', # \"It's really cold here.\"\n",
    "    'Esta es mi vida.', # \"This is my life.\"\n",
    "    'Su cuarto es un desastre.' # \"His room is a mess\"\n",
    "]"
   ]
  },
  {
   "cell_type": "code",
   "execution_count": 56,
   "id": "a05f603c",
   "metadata": {},
   "outputs": [
    {
     "name": "stdout",
     "output_type": "stream",
     "text": [
      "its very cold here . \n",
      "this is my life . \n",
      "his room is a [UNK] . \n",
      "CPU times: total: 1.53 s\n",
      "Wall time: 1.54 s\n"
     ]
    }
   ],
   "source": [
    "%%time\n",
    "for t in inputs:\n",
    "    print(model.translate([t])[0].numpy().decode())"
   ]
  },
  {
   "cell_type": "code",
   "execution_count": 57,
   "id": "59e488c5",
   "metadata": {},
   "outputs": [
    {
     "name": "stdout",
     "output_type": "stream",
     "text": [
      "its very cold here .  \n",
      "this is my life .  \n",
      "his room is a [UNK] . \n",
      "\n",
      "CPU times: total: 656 ms\n",
      "Wall time: 588 ms\n"
     ]
    }
   ],
   "source": [
    "%%time\n",
    "result = model.translate(inputs)\n",
    "\n",
    "print(result[0].numpy().decode())\n",
    "print(result[1].numpy().decode())\n",
    "print(result[2].numpy().decode())\n",
    "print()"
   ]
  },
  {
   "cell_type": "markdown",
   "id": "6eea79a5",
   "metadata": {},
   "source": [
    "### Export\n",
    "\n",
    "If you want to export this model you'll need to wrap the `translate` method in a `tf.function`. That implementation will get the job do"
   ]
  },
  {
   "cell_type": "code",
   "execution_count": 58,
   "id": "79ac333a",
   "metadata": {},
   "outputs": [],
   "source": [
    "class Export(tf.Module):\n",
    "    def __init__(self, model):\n",
    "        self.model = model\n",
    "    @tf.function(input_signature=[tf.TensorSpec(dtype=tf.string, shape=[None])])\n",
    "    def translate(self, inputs):\n",
    "        return self.model.translate(inputs)"
   ]
  },
  {
   "cell_type": "code",
   "execution_count": 59,
   "id": "9493352a",
   "metadata": {},
   "outputs": [],
   "source": [
    "export = Export(model)"
   ]
  },
  {
   "cell_type": "code",
   "execution_count": 60,
   "id": "a57610cd",
   "metadata": {},
   "outputs": [
    {
     "name": "stdout",
     "output_type": "stream",
     "text": [
      "its very cold here .                                             \n",
      "this is my life .                                             \n",
      "his room is a [UNK] .                                            \n",
      "\n",
      "CPU times: total: 2min 25s\n",
      "Wall time: 2min 25s\n"
     ]
    }
   ],
   "source": [
    "%%time\n",
    "result = export.translate(tf.constant(inputs))\n",
    "\n",
    "print(result[0].numpy().decode())\n",
    "print(result[1].numpy().decode())\n",
    "print(result[2].numpy().decode())\n",
    "print()"
   ]
  },
  {
   "cell_type": "markdown",
   "id": "c9abe20f",
   "metadata": {},
   "source": [
    "Now that the function has been traced it can be exported using `saved_model.save`"
   ]
  },
  {
   "cell_type": "code",
   "execution_count": 62,
   "id": "ad4b9072",
   "metadata": {},
   "outputs": [
    {
     "name": "stderr",
     "output_type": "stream",
     "text": [
      "WARNING:absl:Found untraced functions such as embedding_3_layer_call_fn, embedding_3_layer_call_and_return_conditional_losses, embedding_4_layer_call_fn, embedding_4_layer_call_and_return_conditional_losses, cross_attention_2_layer_call_fn while saving (showing 5 of 32). These functions will not be directly callable after loading.\n"
     ]
    },
    {
     "name": "stdout",
     "output_type": "stream",
     "text": [
      "INFO:tensorflow:Assets written to: translator\\assets\n"
     ]
    },
    {
     "name": "stderr",
     "output_type": "stream",
     "text": [
      "INFO:tensorflow:Assets written to: translator\\assets\n"
     ]
    }
   ],
   "source": [
    "tf.saved_model.save(export, 'translator', signatures={'serving_default': export.translate})"
   ]
  },
  {
   "cell_type": "code",
   "execution_count": 63,
   "id": "c417a62a",
   "metadata": {},
   "outputs": [
    {
     "name": "stdout",
     "output_type": "stream",
     "text": [
      "CPU times: total: 2min 37s\n",
      "Wall time: 2min 37s\n"
     ]
    }
   ],
   "source": [
    "%%time\n",
    "reloaded = tf.saved_model.load('translator')\n",
    "_ = reloaded.translate(tf.constant(inputs)) "
   ]
  },
  {
   "cell_type": "code",
   "execution_count": 64,
   "id": "2df97812",
   "metadata": {},
   "outputs": [
    {
     "name": "stdout",
     "output_type": "stream",
     "text": [
      "its very cold here .                                             \n",
      "this is my life .                                             \n",
      "his room is a [UNK] .                                            \n",
      "\n",
      "CPU times: total: 1.06 s\n",
      "Wall time: 605 ms\n"
     ]
    }
   ],
   "source": [
    "%%time\n",
    "result = reloaded.translate(tf.constant(inputs))\n",
    "\n",
    "print(result[0].numpy().decode())\n",
    "print(result[1].numpy().decode())\n",
    "print(result[2].numpy().decode())\n",
    "print()"
   ]
  },
  {
   "cell_type": "code",
   "execution_count": null,
   "id": "da68cd25",
   "metadata": {},
   "outputs": [],
   "source": []
  }
 ],
 "metadata": {
  "kernelspec": {
   "display_name": "Python 3 (ipykernel)",
   "language": "python",
   "name": "python3"
  },
  "language_info": {
   "codemirror_mode": {
    "name": "ipython",
    "version": 3
   },
   "file_extension": ".py",
   "mimetype": "text/x-python",
   "name": "python",
   "nbconvert_exporter": "python",
   "pygments_lexer": "ipython3",
   "version": "3.10.6"
  }
 },
 "nbformat": 4,
 "nbformat_minor": 5
}
